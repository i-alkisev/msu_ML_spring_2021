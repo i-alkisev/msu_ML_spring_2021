{
 "cells": [
  {
   "cell_type": "markdown",
   "metadata": {},
   "source": [
    "### Алгоритмы интеллектуальной обработки больших объемов данных\n",
    "## Домашнее задание №3 - Дерево решений\n"
   ]
  },
  {
   "cell_type": "markdown",
   "metadata": {},
   "source": [
    "**Общая информация**\n",
    "\n",
    "**Срок сдачи:** 3 мая 2021, 08:30   \n",
    "**Штраф за опоздание:** -2 балла после 08:30 03 мая, -4 балла после 08:30 10 мая, -6 баллов после 08:30 17 мая, -8 баллов после 08:30 24 мая.\n",
    "\n",
    "При отправлении ДЗ указывайте фамилию в названии файла Присылать ДЗ необходимо в виде ссылки на свой github репозиторий на почту ml1.sphere@mail.ru с указанием темы в следующем формате:\n",
    "[ML0221, Задание 3] Фамилия Имя. \n",
    "\n",
    "\n",
    "Используйте данный Ipython Notebook при оформлении домашнего задания."
   ]
  },
  {
   "cell_type": "markdown",
   "metadata": {},
   "source": [
    "##  Реализуем дерево решений (3 балла)"
   ]
  },
  {
   "cell_type": "markdown",
   "metadata": {},
   "source": [
    "Допишите недостающие части дерева решений. Ваша реализация дерева должна работать по точности не хуже DecisionTreeClassifier из sklearn.\n",
    "Внимание: если Вас не устраивает предложенная структура хранения дерева, Вы без потери баллов можете сделать свой класс DecisionTreeClassifier, в котором сами полностью воспроизведете алгоритм дерева решений. Обязательно в нем иметь только функции fit, predict"
   ]
  },
  {
   "cell_type": "code",
   "execution_count": 1,
   "metadata": {},
   "outputs": [],
   "source": [
    "import matplotlib.pyplot as plt\n",
    "import numpy as np\n",
    "import pandas as pd\n",
    "\n",
    "from sklearn.datasets import load_wine\n",
    "from sklearn.ensemble import RandomForestClassifier\n",
    "from sklearn.metrics import accuracy_score\n",
    "from sklearn.model_selection import KFold, train_test_split, GridSearchCV, RandomizedSearchCV\n",
    "from sklearn.tree import DecisionTreeClassifier\n",
    "from collections import defaultdict"
   ]
  },
  {
   "cell_type": "code",
   "execution_count": 2,
   "metadata": {},
   "outputs": [],
   "source": [
    "class MyDecisionTreeClassifier:\n",
    "    NON_LEAF_TYPE = 0\n",
    "    LEAF_TYPE = 1\n",
    "\n",
    "    def __init__(self, min_samples_split=2, max_depth=5, criterion='gini'):\n",
    "        \"\"\"\n",
    "        criterion -- критерий расщепления. необходимо релизовать три:\n",
    "        Ошибка классификации, Индекс Джини, Энтропийный критерий\n",
    "        max_depth -- максимальная глубина дерева\n",
    "        min_samples_split -- минимальное число объектов в листе, чтобы сделать новый сплит\n",
    "        \"\"\"\n",
    "        self.min_samples_split = min_samples_split\n",
    "        self.max_depth = max_depth\n",
    "        self.num_class = -1\n",
    "        # Для последнего задания\n",
    "        self.feature_importances_ = defaultdict(int)\n",
    "        self.criterion = criterion\n",
    "        # Структура, которая описывает дерево\n",
    "        # Представляет словарь, где для  node_id (айдишник узла дерева) храним\n",
    "        # (тип_узла, айдишник признака сплита, порог сплита) если тип NON_LEAF_TYPE\n",
    "        # (тип_узла, предсказание класса, вероятность класса) если тип LEAF_TYPE\n",
    "        # Подразумевается, что у каждого node_id в дереве слева \n",
    "        # узел с айди 2 * node_id + 1, а справа 2 * node_id + 2\n",
    "        self.tree = dict()\n",
    "\n",
    "    def __div_samples(self, x, y, feature_id, threshold):\n",
    "        \"\"\"\n",
    "        Разделяет объекты на 2 множества\n",
    "        x -- матрица объектов\n",
    "        y -- вектор ответов\n",
    "        feature_id -- айдишник признака, по которому делаем сплит\n",
    "        threshold -- порог, по которому делаем сплит\n",
    "        \"\"\"\n",
    "        left_mask = x[:, feature_id] > threshold\n",
    "        right_mask = ~left_mask\n",
    "        return x[left_mask], x[right_mask], y[left_mask], y[right_mask]\n",
    "\n",
    "    def __calc_criterion(self, y):\n",
    "        tmp = np.bincount(y)\n",
    "        p = tmp[tmp != 0]\n",
    "        count = y.shape[0]\n",
    "        p = p / count\n",
    "        if self.criterion == 'gini':\n",
    "            p = p ** 2\n",
    "            return 1 - np.sum(p)\n",
    "        elif self.criterion == 'entropy':\n",
    "            return - np.sum(p * np.log2(p))\n",
    "        elif self.criterion == 'classification_error':\n",
    "            return 1 - np.max(p)\n",
    "        else:\n",
    "            raise ValueError('Invalid criterion: \"' + criterion + '\"')\n",
    "        \n",
    "\n",
    "    def __find_threshold(self, x, y):\n",
    "        \"\"\"\n",
    "        Находим оптимальный признак и порог для сплита\n",
    "        Здесь используемые разные impurity в зависимости от self.criterion\n",
    "        \"\"\"\n",
    "        \n",
    "        max_impurity = None\n",
    "        best_threshold = None\n",
    "        best_feature = None\n",
    "        for feature_id in range(x.shape[1]):\n",
    "            x_sorted = np.unique(x[:, feature_id])\n",
    "            x_sorted = np.sort(x_sorted)\n",
    "            thresholds = np.asarray([(x_sorted[i] + x_sorted[i + 1]) / 2 for i in range(x_sorted.shape[0] - 1)])\n",
    "            for threshold in thresholds:\n",
    "                _, _, y_left, y_right = self.__div_samples(x, y, feature_id, threshold)\n",
    "                k1 = y_left.shape[0]\n",
    "                k2 = y_right.shape[0]\n",
    "                curr_impurity = - k1 * self.__calc_criterion(y_left) - k2 * self.__calc_criterion(y_right)\n",
    "                if (max_impurity is None) or (curr_impurity > max_impurity):\n",
    "                    max_impurity = curr_impurity\n",
    "                    best_threshold = threshold\n",
    "                    best_feature = feature_id\n",
    "        return (best_threshold, best_feature, max_impurity)\n",
    "\n",
    "    def __fit_node(self, x, y, node_id, depth):\n",
    "        \"\"\"\n",
    "        Делаем новый узел в дереве\n",
    "        Решаем, терминальный он или нет\n",
    "        Если нет, то строим левый узел  с айди 2 * node_id + 1\n",
    "        И правый узел с  айди 2 * node_id + 2\n",
    "        \"\"\"\n",
    "        if (depth is not None and depth == self.max_depth) or y.shape[0] < self.min_samples_split  or np.unique(y).size == 1:\n",
    "            tmp = np.bincount(y)\n",
    "            pred_class = np.argmax(tmp)\n",
    "            max_count = tmp[pred_class]\n",
    "            self.tree[node_id] = (self.__class__.LEAF_TYPE, pred_class, max_count / y.shape[0])\n",
    "            return\n",
    "        threshold, feature_id, impurity = self.__find_threshold(x, y)\n",
    "        x_left, x_right, y_left, y_right = self.__div_samples(x, y, feature_id, threshold)\n",
    "        if y_left.shape[0] == 0 or y_right.shape[0] == 0:\n",
    "            tmp = np.bincount(y)\n",
    "            pred_class = np.argmax(tmp)\n",
    "            max_count = tmp[pred_class]\n",
    "            self.tree[node_id] = (self.__class__.LEAF_TYPE, pred_class, max_count / y.shape[0])\n",
    "        else:\n",
    "            self.tree[node_id] = (self.__class__.NON_LEAF_TYPE, feature_id, threshold)\n",
    "            self.__fit_node(x_left, y_left, 2 * node_id + 1, depth + 1)\n",
    "            self.__fit_node(x_right, y_right, 2 * node_id + 2, depth + 1)\n",
    "            \n",
    "            self.feature_importances_[feature_id] += -impurity\n",
    "    \n",
    "    def fit(self, x, y):\n",
    "        \"\"\"\n",
    "        Рекурсивно строим дерево решений\n",
    "        Начинаем с корня node_id 0\n",
    "        \"\"\"\n",
    "        self.num_class = np.unique(y).size\n",
    "        self.__fit_node(x, y, 0, 0) \n",
    "\n",
    "    def __predict_class(self, x, node_id):\n",
    "        \"\"\"\n",
    "        Рекурсивно обходим дерево по всем узлам,\n",
    "        пока не дойдем до терминального\n",
    "        \"\"\"\n",
    "        node = self.tree[node_id]\n",
    "        if node[0] == self.__class__.NON_LEAF_TYPE:\n",
    "            _, feature_id, threshold = node\n",
    "            if x[feature_id] > threshold:\n",
    "                return self.__predict_class(x, 2 * node_id + 1)\n",
    "            else:\n",
    "                return self.__predict_class(x, 2 * node_id + 2)\n",
    "        else:\n",
    "            return node[1]\n",
    "        \n",
    "    def predict(self, X):\n",
    "        \"\"\"\n",
    "        Вызывает predict для всех объектов из матрицы X\n",
    "        \"\"\"\n",
    "        return np.array([self.__predict_class(x, 0) for x in X])\n",
    "    \n",
    "    def fit_predict(self, x_train, y_train, predicted_x):\n",
    "        self.fit(x_train, y_train)\n",
    "        return self.predict(predicted_x)\n",
    "    \n",
    "    def get_feature_importance(self):\n",
    "        \"\"\"\n",
    "        Возвращает важность признаков\n",
    "        \"\"\"\n",
    "        return self.feature_importances_"
   ]
  },
  {
   "cell_type": "code",
   "execution_count": 3,
   "metadata": {},
   "outputs": [],
   "source": [
    "my_clf = MyDecisionTreeClassifier(min_samples_split=2)\n",
    "clf = DecisionTreeClassifier(min_samples_split=2)"
   ]
  },
  {
   "cell_type": "code",
   "execution_count": 4,
   "metadata": {},
   "outputs": [],
   "source": [
    "wine = load_wine()\n",
    "X_train, X_test, y_train, y_test = train_test_split(wine.data, wine.target, test_size=0.1, stratify=wine.target)"
   ]
  },
  {
   "cell_type": "code",
   "execution_count": 5,
   "metadata": {
    "scrolled": true
   },
   "outputs": [
    {
     "name": "stdout",
     "output_type": "stream",
     "text": [
      "CPU times: user 166 ms, sys: 3.7 ms, total: 169 ms\n",
      "Wall time: 170 ms\n"
     ]
    }
   ],
   "source": [
    "%%time\n",
    "my_clf.fit(X_train, y_train)"
   ]
  },
  {
   "cell_type": "code",
   "execution_count": 6,
   "metadata": {},
   "outputs": [
    {
     "name": "stdout",
     "output_type": "stream",
     "text": [
      "CPU times: user 4.06 ms, sys: 4 µs, total: 4.06 ms\n",
      "Wall time: 2.45 ms\n"
     ]
    },
    {
     "data": {
      "text/plain": [
       "DecisionTreeClassifier()"
      ]
     },
     "execution_count": 6,
     "metadata": {},
     "output_type": "execute_result"
    }
   ],
   "source": [
    "%%time\n",
    "clf.fit(X_train, y_train)"
   ]
  },
  {
   "cell_type": "code",
   "execution_count": 7,
   "metadata": {},
   "outputs": [
    {
     "name": "stdout",
     "output_type": "stream",
     "text": [
      "1.0\n",
      "1.0\n"
     ]
    }
   ],
   "source": [
    "print(accuracy_score(y_pred=clf.predict(X_train), y_true=y_train))\n",
    "print(accuracy_score(y_pred=my_clf.predict(X_train), y_true=y_train))"
   ]
  },
  {
   "cell_type": "code",
   "execution_count": 8,
   "metadata": {
    "scrolled": true
   },
   "outputs": [
    {
     "name": "stdout",
     "output_type": "stream",
     "text": [
      "0.9444444444444444\n",
      "0.9444444444444444\n"
     ]
    }
   ],
   "source": [
    "print(accuracy_score(y_pred=clf.predict(X_test), y_true=y_test))\n",
    "print(accuracy_score(y_pred=my_clf.predict(X_test), y_true=y_test))"
   ]
  },
  {
   "cell_type": "markdown",
   "metadata": {},
   "source": [
    "## Ускоряем дерево решений (2 балла)\n",
    "Добиться скорости работы на fit не медленнее чем в 10 раз sklearn на данных wine. \n",
    "Для этого используем numpy."
   ]
  },
  {
   "cell_type": "code",
   "execution_count": 9,
   "metadata": {
    "scrolled": true
   },
   "outputs": [
    {
     "name": "stdout",
     "output_type": "stream",
     "text": [
      "CPU times: user 1.99 ms, sys: 209 µs, total: 2.2 ms\n",
      "Wall time: 1.58 ms\n"
     ]
    },
    {
     "data": {
      "text/plain": [
       "DecisionTreeClassifier()"
      ]
     },
     "execution_count": 9,
     "metadata": {},
     "output_type": "execute_result"
    }
   ],
   "source": [
    "%time clf.fit(X_train, y_train)"
   ]
  },
  {
   "cell_type": "code",
   "execution_count": 10,
   "metadata": {
    "scrolled": true
   },
   "outputs": [
    {
     "name": "stdout",
     "output_type": "stream",
     "text": [
      "CPU times: user 157 ms, sys: 0 ns, total: 157 ms\n",
      "Wall time: 156 ms\n"
     ]
    }
   ],
   "source": [
    "%time my_clf.fit(X_train, y_train)"
   ]
  },
  {
   "cell_type": "code",
   "execution_count": null,
   "metadata": {},
   "outputs": [],
   "source": []
  },
  {
   "cell_type": "markdown",
   "metadata": {},
   "source": [
    "## Боевое применение (3 балла)\n",
    "\n",
    "На практике Вы познакомились с датасетом Speed Dating Data. В нем каждая пара в быстрых свиданиях характеризуется определенным набором признаков. Задача -- предсказать, произойдет ли матч пары (колонка match). \n",
    "\n",
    "Пример работы с датасетом можете найти в практике пункт 2\n",
    "https://github.com/VVVikulin/ml1.sphere/blob/master/2019-09/lecture_06/pract-trees.ipynb\n",
    "\n",
    "Данные и описания колонок лежат тут\n",
    "https://cloud.mail.ru/public/8nHV/p6J7wY1y1/speed-dating-experiment/"
   ]
  },
  {
   "cell_type": "markdown",
   "metadata": {},
   "source": [
    "Скачайте датасет, обработайте данные, как показано на семинаре или своим собственным способом. Обучите дерево классифкации. В качестве таргета возьмите колонку 'match'. Постарайтесь хорошо обработать признаки, чтобы выбить максимальную точность. Если точность будет близка к случайному гаданию, задание не будет защитано. \n"
   ]
  },
  {
   "cell_type": "code",
   "execution_count": 11,
   "metadata": {},
   "outputs": [
    {
     "data": {
      "text/plain": [
       "(8378, 195)"
      ]
     },
     "execution_count": 11,
     "metadata": {},
     "output_type": "execute_result"
    }
   ],
   "source": [
    "df = pd.read_csv('./data/Speed Dating Data.csv', encoding='latin1')\n",
    "df.shape"
   ]
  },
  {
   "cell_type": "code",
   "execution_count": 12,
   "metadata": {},
   "outputs": [
    {
     "data": {
      "text/plain": [
       "(8378, 71)"
      ]
     },
     "execution_count": 12,
     "metadata": {},
     "output_type": "execute_result"
    }
   ],
   "source": [
    "df = df.iloc[:, :97]\n",
    "df = df.drop(['id'], axis=1)\n",
    "df = df.drop(['idg'], axis=1)\n",
    "df.drop_duplicates(subset=['iid']).gender.value_counts()\n",
    "df.drop_duplicates(subset=['iid']).condtn.value_counts()\n",
    "df = df.drop(['condtn'], axis=1)\n",
    "df = df.drop(['round'], axis=1)\n",
    "df = df.drop(['position', 'positin1'], axis=1)\n",
    "df = df.drop(['order'], axis=1)\n",
    "df = df.drop(['partner'], axis=1)\n",
    "df = df.drop(['age_o', 'race_o', 'pf_o_att', \n",
    "              'pf_o_sin', 'pf_o_int',\n",
    "              'pf_o_fun', 'pf_o_amb', 'pf_o_sha',\n",
    "              'dec_o', 'attr_o', 'sinc_o', 'intel_o', 'fun_o',\n",
    "              'amb_o', 'shar_o', 'like_o', 'prob_o','met_o'], \n",
    "             axis=1)\n",
    "df.shape"
   ]
  },
  {
   "cell_type": "code",
   "execution_count": 13,
   "metadata": {},
   "outputs": [
    {
     "data": {
      "text/plain": [
       "<AxesSubplot:>"
      ]
     },
     "execution_count": 13,
     "metadata": {},
     "output_type": "execute_result"
    },
    {
     "data": {
      "image/png": "[encoded data removed]",
      "text/plain": [
       "<Figure size 432x288 with 1 Axes>"
      ]
     },
     "metadata": {
      "needs_background": "light"
     },
     "output_type": "display_data"
    }
   ],
   "source": [
    "df.drop_duplicates(subset=['iid']).age.hist(bins=20)"
   ]
  },
  {
   "cell_type": "code",
   "execution_count": 14,
   "metadata": {},
   "outputs": [
    {
     "data": {
      "text/plain": [
       "8"
      ]
     },
     "execution_count": 14,
     "metadata": {},
     "output_type": "execute_result"
    }
   ],
   "source": [
    "df.drop_duplicates('iid').age.isnull().sum()"
   ]
  },
  {
   "cell_type": "code",
   "execution_count": 15,
   "metadata": {},
   "outputs": [],
   "source": [
    "df = df.dropna(subset=['age'])"
   ]
  },
  {
   "cell_type": "code",
   "execution_count": 16,
   "metadata": {},
   "outputs": [
    {
     "name": "stdout",
     "output_type": "stream",
     "text": [
      "==========\n",
      "Field Code 1.0\n",
      "['Law' 'law' 'LAW' 'Law and Social Work'\n",
      " 'Law and English Literature (J.D./Ph.D.)' 'Intellectual Property Law'\n",
      " 'Law/Business']\n",
      "==========\n",
      "Field Code 2.0\n",
      "['Economics' 'Mathematics' 'Statistics' 'math' 'Mathematics, PhD' 'Stats'\n",
      " 'math of finance' 'Math']\n",
      "==========\n",
      "Field Code 3.0\n",
      "['Psychology' 'Speech Language Pathology' 'Speech Languahe Pathology'\n",
      " 'Educational Psychology' 'Organizational Psychology' 'psychology'\n",
      " 'Communications' 'Sociology' 'psychology and english' 'theory'\n",
      " 'Health policy' 'Clinical Psychology' 'Sociology and Education'\n",
      " 'sociology' 'Anthropology/Education' 'speech pathology'\n",
      " 'Speech Pathology' 'Anthropology' 'School Psychology' 'anthropology'\n",
      " 'Counseling Psychology' 'African-American Studies/History']\n",
      "==========\n",
      "Field Code 4.0\n",
      "['Medicine' 'Art History/medicine'\n",
      " 'Sociomedical Sciences- School of Public Health' 'Epidemiology'\n",
      " 'GS Postbacc PreMed' 'medicine']\n",
      "==========\n",
      "Field Code 5.0\n",
      "['Operations Research' 'Mechanical Engineering' 'Engineering'\n",
      " 'Electrical Engineering' 'Operations Research (SEAS)'\n",
      " 'Education Administration' 'Computer Science' 'Biomedical Engineering'\n",
      " 'electrical engineering' 'engineering' 'Medical Informatics'\n",
      " 'medical informatics' 'Electrical Engg.' 'Environmental Engineering'\n",
      " 'Instructional Tech & Media' 'MA in Quantitative Methods'\n",
      " 'Urban Planning' 'Financial Engineering' 'biomedical engineering'\n",
      " 'biomedical informatics' 'ELECTRICAL ENGINEERING'\n",
      " 'Biomedical engineering' 'Industrial Engineering'\n",
      " 'Industrial Engineering/Operations Research'\n",
      " 'Masters of Industrial Engineering' 'Biomedical Informatics']\n",
      "==========\n",
      "Field Code 6.0\n",
      "['MFA Creative Writing' 'Classics' 'Journalism' 'English'\n",
      " 'Comparative Literature' 'English and Comp Lit'\n",
      " 'Communications in Education' 'Creative Writing'\n",
      " 'Creative Writing - Nonfiction' 'Writing: Literary Nonfiction'\n",
      " 'Creative Writing (Nonfiction)' 'NonFiction Writing' 'SOA -- writing'\n",
      " 'journalism' 'Nonfiction writing']\n",
      "==========\n",
      "Field Code 7.0\n",
      "['German Literature' 'Religion' 'philosophy' 'History of Religion'\n",
      " 'Modern Chinese Literature' 'Philosophy' 'Religion, GSAS' 'History'\n",
      " 'History (GSAS - PhD)' 'American Studies' 'Philosophy (Ph.D.)'\n",
      " 'Philosophy and Physics' 'Art History' 'art history']\n",
      "==========\n",
      "Field Code 8.0\n",
      "['Finance' 'Business' 'money' 'Applied Maths/Econs' 'Economics' 'Finanace'\n",
      " 'Finance&Economics' 'Mathematical Finance' 'MBA'\n",
      " 'Business & International Affairs' 'Marketing' 'Business (MBA)'\n",
      " 'financial math' 'Business- MBA' 'Economics, English'\n",
      " 'Economics, Sociology' 'Economics and Political Science' 'business'\n",
      " 'Business, marketing' 'Business/ Finance/ Real Estate'\n",
      " 'International Affairs/Finance' 'international finance and business'\n",
      " 'International Business' 'International Finance, Economic Policy'\n",
      " 'Business/Law' 'Business and International Affairs (MBA/MIA Dual Degree)'\n",
      " 'QMSS' 'Public Administration' 'Master in Public Administration'\n",
      " 'Business School' 'MBA / Master of International Affairs (SIPA)'\n",
      " 'Finance/Economics' 'Business Administration' 'MBA Finance'\n",
      " 'BUSINESS CONSULTING' 'business school' 'Business, Media'\n",
      " 'Fundraising Management' 'Business (Finance & Marketing)' 'Consulting'\n",
      " 'MBA - Private Equity / Real Estate' 'General management/finance']\n",
      "==========\n",
      "Field Code 9.0\n",
      "['TC (Health Ed)' 'Elementary/Childhood Education (MA)'\n",
      " 'International Educational Development' 'Art Education'\n",
      " 'elementary education' 'MA Science Education' 'Social Studies Education'\n",
      " 'MA Teaching Social Studies' 'Education Policy'\n",
      " 'Education- Literacy Specialist' 'bilingual education' 'Education'\n",
      " 'math education' 'TESOL' 'Elementary Education'\n",
      " 'Cognitive Studies in Education' 'education'\n",
      " 'Curriculum and Teaching/Giftedness' 'Instructional Media and Technology'\n",
      " 'English Education' 'art education' 'Early Childhood Education'\n",
      " 'Ed.D. in higher education policy at TC' 'EDUCATION' 'music education'\n",
      " 'Music Education' 'Higher Ed. - M.A.' 'Neuroscience and Education'\n",
      " 'Elementary Education - Preservice'\n",
      " 'Education Leadership - Public School Administration'\n",
      " 'Bilingual Education' 'teaching of English']\n",
      "==========\n",
      "Field Code 10.0\n",
      "['chemistry' 'microbiology' 'Chemistry'\n",
      " 'Climate-Earth and Environ. Science' 'marine geophysics'\n",
      " 'Nutrition/Genetics' 'Neuroscience' 'physics (astrophysics)' 'Physics'\n",
      " 'Biochemistry' 'biology' 'Cell Biology' 'Microbiology' 'climate change'\n",
      " 'MA Biotechnology' 'Ecology' 'Computational Biochemsistry' 'Neurobiology'\n",
      " 'biomedicine' 'Biology' 'Conservation biology' 'biotechnology'\n",
      " 'Earth and Environmental Science' 'nutrition' 'Genetics' 'Nutritiron'\n",
      " 'Molecular Biology' 'Genetics & Development' 'genetics'\n",
      " 'medicine and biochemistry' 'Epidemiology' 'Nutrition'\n",
      " 'Applied Physiology & Nutrition' 'Biomedical Engineering' 'physics'\n",
      " 'Biotechnology' 'Neurosciences/Stem cells' 'Biology PhD'\n",
      " 'biochemistry/genetics' 'epidemiology'\n",
      " 'Biochemistry & Molecular Biophysics']\n",
      "==========\n",
      "Field Code 11.0\n",
      "['social work' 'Social Work' 'Masters of Social Work' 'Social work'\n",
      " 'International Affairs' 'Social Work/SIPA']\n",
      "==========\n",
      "Field Code 12.0\n",
      "['Undergrad - GS']\n",
      "==========\n",
      "Field Code 13.0\n",
      "['Masters in Public Administration' 'Masters of Social Work&Education'\n",
      " 'political science' 'International Relations'\n",
      " 'international affairs - economic development' 'Political Science'\n",
      " 'American Studies (Masters)' 'International Affairs'\n",
      " 'international affairs/international finance' 'International Development'\n",
      " 'International Affairs and Public Health' 'International affairs'\n",
      " 'International Affairs/Business' 'Master of International Affairs'\n",
      " 'International Politics' 'SIPA / MIA'\n",
      " 'International Security Policy - SIPA' 'Intrernational Affairs'\n",
      " 'International Affairs - Economic Policy' 'SIPA - Energy' 'Public Policy'\n",
      " 'Human Rights: Middle East' 'Human Rights' 'SIPA-International Affairs'\n",
      " 'Public Administration']\n",
      "==========\n",
      "Field Code 14.0\n",
      "['Film' 'MFA -Film' 'film']\n",
      "==========\n",
      "Field Code 15.0\n",
      "['Arts Administration' 'Museum Anthropology'\n",
      " 'Theatre Management & Producing' 'MFA Writing' 'MFA  Poetry' 'Theater'\n",
      " 'MFA Acting Program' 'Acting' 'Public Health']\n",
      "==========\n",
      "Field Code 16.0\n",
      "['Polish' 'Japanese Literature' 'french']\n",
      "==========\n",
      "Field Code 17.0\n",
      "['Architecture']\n",
      "==========\n",
      "Field Code 18.0\n",
      "['working' 'GSAS' 'Climate Dynamics']\n"
     ]
    }
   ],
   "source": [
    "for i, group in df.groupby('field_cd'):\n",
    "    print('=' * 10)\n",
    "    print('Field Code {}'.format(i))\n",
    "    print(group.field.unique())"
   ]
  },
  {
   "cell_type": "code",
   "execution_count": 17,
   "metadata": {},
   "outputs": [
    {
     "data": {
      "text/plain": [
       "19"
      ]
     },
     "execution_count": 17,
     "metadata": {},
     "output_type": "execute_result"
    }
   ],
   "source": [
    "df.field_cd.isnull().sum()"
   ]
  },
  {
   "cell_type": "code",
   "execution_count": 18,
   "metadata": {},
   "outputs": [],
   "source": [
    "df.loc[:, 'field_cd'] = df.loc[:, 'field_cd'].fillna(19)"
   ]
  },
  {
   "cell_type": "code",
   "execution_count": 19,
   "metadata": {
    "scrolled": true
   },
   "outputs": [],
   "source": [
    "df = df.drop(['field'], axis=1)"
   ]
  },
  {
   "cell_type": "code",
   "execution_count": 20,
   "metadata": {},
   "outputs": [],
   "source": [
    "df = df.drop(['undergra'], axis=1)"
   ]
  },
  {
   "cell_type": "code",
   "execution_count": 21,
   "metadata": {},
   "outputs": [],
   "source": [
    "df.loc[:, 'mn_sat'] = df.loc[:, 'mn_sat'].str.replace(',', '').astype(np.float)"
   ]
  },
  {
   "cell_type": "code",
   "execution_count": 22,
   "metadata": {},
   "outputs": [
    {
     "data": {
      "text/plain": [
       "<AxesSubplot:>"
      ]
     },
     "execution_count": 22,
     "metadata": {},
     "output_type": "execute_result"
    },
    {
     "data": {
      "image/png": "[encoded data removed]",
      "text/plain": [
       "<Figure size 432x288 with 1 Axes>"
      ]
     },
     "metadata": {
      "needs_background": "light"
     },
     "output_type": "display_data"
    }
   ],
   "source": [
    "df.drop_duplicates('iid').mn_sat.hist()"
   ]
  },
  {
   "cell_type": "code",
   "execution_count": 23,
   "metadata": {},
   "outputs": [
    {
     "data": {
      "text/plain": [
       "342"
      ]
     },
     "execution_count": 23,
     "metadata": {},
     "output_type": "execute_result"
    }
   ],
   "source": [
    "df.drop_duplicates('iid').mn_sat.isnull().sum()"
   ]
  },
  {
   "cell_type": "code",
   "execution_count": 24,
   "metadata": {},
   "outputs": [
    {
     "data": {
      "text/plain": [
       "<AxesSubplot:>"
      ]
     },
     "execution_count": 24,
     "metadata": {},
     "output_type": "execute_result"
    },
    {
     "data": {
      "image/png": "[encoded data removed]",
      "text/plain": [
       "<Figure size 432x288 with 1 Axes>"
      ]
     },
     "metadata": {
      "needs_background": "light"
     },
     "output_type": "display_data"
    }
   ],
   "source": [
    "df.loc[:, 'tuition'] = df.loc[:, 'tuition'].str.replace(',', '').astype(np.float)\n",
    "df.drop_duplicates('iid').tuition.hist()"
   ]
  },
  {
   "cell_type": "code",
   "execution_count": 25,
   "metadata": {},
   "outputs": [
    {
     "data": {
      "text/plain": [
       "310"
      ]
     },
     "execution_count": 25,
     "metadata": {},
     "output_type": "execute_result"
    }
   ],
   "source": [
    "df.drop_duplicates('iid').tuition.isnull().sum()"
   ]
  },
  {
   "cell_type": "code",
   "execution_count": 26,
   "metadata": {},
   "outputs": [
    {
     "data": {
      "text/plain": [
       "1"
      ]
     },
     "execution_count": 26,
     "metadata": {},
     "output_type": "execute_result"
    }
   ],
   "source": [
    "df.drop_duplicates('iid').imprace.isnull().sum()"
   ]
  },
  {
   "cell_type": "code",
   "execution_count": 27,
   "metadata": {},
   "outputs": [
    {
     "data": {
      "text/plain": [
       "1"
      ]
     },
     "execution_count": 27,
     "metadata": {},
     "output_type": "execute_result"
    }
   ],
   "source": [
    "df.drop_duplicates('iid').imprelig.isnull().sum()"
   ]
  },
  {
   "cell_type": "code",
   "execution_count": 28,
   "metadata": {},
   "outputs": [],
   "source": [
    "df = df.dropna(subset=['imprelig', 'imprace'])"
   ]
  },
  {
   "cell_type": "code",
   "execution_count": 29,
   "metadata": {},
   "outputs": [],
   "source": [
    "df = df.drop(['from', 'zipcode'], axis=1)"
   ]
  },
  {
   "cell_type": "code",
   "execution_count": 30,
   "metadata": {},
   "outputs": [
    {
     "data": {
      "text/plain": [
       "<AxesSubplot:>"
      ]
     },
     "execution_count": 30,
     "metadata": {},
     "output_type": "execute_result"
    },
    {
     "data": {
      "image/png": "[encoded data removed]",
      "text/plain": [
       "<Figure size 432x288 with 1 Axes>"
      ]
     },
     "metadata": {
      "needs_background": "light"
     },
     "output_type": "display_data"
    }
   ],
   "source": [
    "df.drop_duplicates('iid').loc[:, 'income'].hist()"
   ]
  },
  {
   "cell_type": "code",
   "execution_count": 31,
   "metadata": {},
   "outputs": [
    {
     "data": {
      "text/plain": [
       "261"
      ]
     },
     "execution_count": 31,
     "metadata": {},
     "output_type": "execute_result"
    }
   ],
   "source": [
    "df.drop_duplicates('iid').loc[:, 'income'].isnull().sum()"
   ]
  },
  {
   "cell_type": "code",
   "execution_count": 32,
   "metadata": {},
   "outputs": [],
   "source": [
    "df = df.drop(['income'], axis=1)"
   ]
  },
  {
   "cell_type": "code",
   "execution_count": 33,
   "metadata": {},
   "outputs": [],
   "source": [
    "df = df.dropna(subset=['date'])"
   ]
  },
  {
   "cell_type": "code",
   "execution_count": 34,
   "metadata": {},
   "outputs": [
    {
     "name": "stdout",
     "output_type": "stream",
     "text": [
      "==========\n",
      "Career Code 1.0\n",
      "['lawyer/policy work' 'lawyer' 'Law' 'Corporate Lawyer' 'Lawyer'\n",
      " 'Corporate attorney' 'law' 'Intellectual Property Attorney' 'LAWYER'\n",
      " 'attorney' 'Lawyer or professional surfer' 'lawyer/gov.position'\n",
      " 'Law or finance' 'IP Law' 'Academic (Law)' 'Private Equity' 'attorney?'\n",
      " 'Corporate law' 'tax lawyer' 'Business/Law' 'Assistant District Attorney']\n",
      "==========\n",
      "Career Code 2.0\n",
      "['Academia, Research, Banking, Life' 'academics or journalism' 'Professor'\n",
      " 'Academic' 'academia' 'teacher' 'industrial scientist'\n",
      " 'teaching and then...' 'Professor of Media Studies'\n",
      " 'Education Administration' 'Academic or Research staff'\n",
      " 'University Professor' 'Research Scientist'\n",
      " 'research in industry or academia' 'Teacher/Professor'\n",
      " 'no idea, maybe a professor' 'a research position' 'professor' 'teaching'\n",
      " 'engineering professional' 'research' 'Neuroscientist/Professor'\n",
      " 'Education' 'Professor and Government Official'\n",
      " 'physicist, probably academia' 'college art teacher' 'academic'\n",
      " 'Research scientist, professor' 'academics' 'academic research'\n",
      " 'academician' 'professional student' 'education' 'Historian'\n",
      " 'college professor' 'scientific research' 'Academic Physician'\n",
      " 'Researcher' 'Professor or Consultant' 'History Professor'\n",
      " 'Educational Policy' 'elementary school teacher' 'Research/Teaching'\n",
      " 'researcher in sociology' 'scientist' 'Naturalist'\n",
      " 'professor, poet/critic' 'researcher/academia' 'Art educator and Artist'\n",
      " 'Teacher' 'Scientist' 'Scientist/educator'\n",
      " 'scientific research for now but who knows' 'College Professor'\n",
      " 'Professor or Lawyer' 'research position in pharmaceutical industry'\n",
      " 'Academia' 'research/academia' 'Secondary Education Teacher'\n",
      " 'High School Social Studies Teacher' 'Education Policy Analyst'\n",
      " 'Literacy Organization head/ Director of Development for non-profit'\n",
      " 'English Teacher' 'Program development / policy work'\n",
      " 'professor of education' 'Educator' 'teaching/education'\n",
      " 'professor in college' 'Academia; Research; Teaching'\n",
      " 'curriculum developer' 'academic or consulting' 'Academia or UN'\n",
      " 'I am a teacher.' 'Professor or journalist'\n",
      " 'to get Ph.D and be a professor'\n",
      " 'Early Childhood Ed. - College/univ. faculity'\n",
      " 'medical examiner or researcher' 'University President'\n",
      " 'EDUCATION ADMINISTRATION' 'music educator, performer'\n",
      " 'Elementary Education Teaching' 'research - teaching' 'Research'\n",
      " 'Elementary school teacher' 'Bilingual Elementary School Teacher'\n",
      " 'Professor, or Engineer' 'Professor; Human Rights Director'\n",
      " 'Clinic Trial' 'English teacher' 'writer/teacher' 'Professor...?'\n",
      " 'acadeic' 'researcher' 'biology industry' 'Epidemiologist'\n",
      " 'epidemiologist' 'teacher and performer' 'TEACHING' 'Academic/ Finance'\n",
      " 'Science' 'Academic Work, Consultant']\n",
      "==========\n",
      "Career Code 3.0\n",
      "['psychologist' 'Social Worker.... Clinician' 'Psychologist'\n",
      " 'school psychologist' 'School Psychologist' 'Clinical Psychology'\n",
      " 'Clinical Psychologist' 'clinical psychologist, researcher, professor'\n",
      " 'School Counseling' 'Sex Therapist']\n",
      "==========\n",
      "Career Code 4.0\n",
      "['Biostatistics' 'Medicine' 'pharmaceuticals' 'Cardiologist' 'Pediatrics'\n",
      " 'medicine' 'pharmaceuticals and biotechnology' 'Physician Scientist'\n",
      " 'health policy' 'Epidemiologist' 'nutrition and dental' 'Physician'\n",
      " 'dietician' 'doctor and entrepreneur' 'Healthcare' 'Nutritionist'\n",
      " 'Private practice Dietician' 'physician, informaticist' 'physician'\n",
      " 'Medical Sciences' 'physician/healthcare' 'Doctor']\n",
      "==========\n",
      "Career Code 5.0\n",
      "['Informatics' 'Engineer' 'Ph.D. Electrical Engineering'\n",
      " 'Operations Research' 'Engineering' 'Mechanical Engineering'\n",
      " 'Civil Engineer' 'Urban Planner' 'Planning' 'ASIC Engineer'\n",
      " 'software engr, network engr' 'Research Engineer']\n",
      "==========\n",
      "Career Code 6.0\n",
      "['Journalist' \"Clidren's TV\" 'Music production' 'comedienne' 'novelist'\n",
      " 'Journalism' 'film' 'Writer' 'Porn Star' 'boxing champ'\n",
      " 'Paper Back Writer'\n",
      " 'Poet, Writer, Singer, Policy Maker with the UN and/or Indian Govt.'\n",
      " 'Entertainment/Sports' 'WRITING' 'manage a museum or art gallery'\n",
      " 'Entertainment/Media' 'Film/Television' 'Writing'\n",
      " 'Museum Work (Curation?)' 'Music Industry' 'Artist' 'Art Management'\n",
      " 'film directing' 'Screenwriter' 'Filmmaker' 'Writer/teacher'\n",
      " 'Writing or Editorial' 'writer/editor'\n",
      " 'producer at a non-profit regional theatre' 'writer' 'playing music'\n",
      " 'writer/producer' 'film and radio' 'Film' 'Writer/Editor' 'Actress'\n",
      " 'Acting']\n",
      "==========\n",
      "Career Code 7.0\n",
      "['research/financial industry' 'Financial Services' 'ceo' 'CEO' 'Banking'\n",
      " 'Capital Markets' 'Organizational Change Consultant' 'banker / academia'\n",
      " 'banker' 'Entrepreneur' 'consulting' 'Private Equity Investing'\n",
      " 'Investment Banking' 'Engineer or iBanker or consultant' 'Trading'\n",
      " 'Economic research' 'Microfinancing Program Manager' 'Marketing'\n",
      " 'Business - Investment Management' 'Finance' 'business'\n",
      " 'Marketing, Advertising' 'Asset Management' 'investment banking' 'MBA'\n",
      " 'Business' 'finance' 'Marketing and Media' 'Brand Management'\n",
      " 'Management Consulting' 'management consulting'\n",
      " 'financial service or fashion' 'International Business' 'Private Equity'\n",
      " 'Investment Management' 'Development work' 'marketing / brand management'\n",
      " 'Biotech/business' 'Country Analysis/Research/Credit Analysis'\n",
      " 'Consulting' 'corporate finance'\n",
      " 'CEO in For Profit Biomedical Organization' 'banking'\n",
      " 'Conservation training and education' 'president' 'Management Consultant'\n",
      " 'Trader' 'Wall Street Economist' 'enterpreneur' 'Industry CTO/CEO'\n",
      " 'finance or engineering' 'Venture Capital/Consulting/Government'\n",
      " \"Int'l Business\" 'Pharmaceuticals/Consulting' 'Investment banking'\n",
      " 'International Development banker'\n",
      " 'Corporate Finance, Asset Management/ Hedge Funds'\n",
      " 'Real Estate Consulting' 'Director of Training and Development'\n",
      " 'Marketing or Strategy and Business Development' 'Business Consulting'\n",
      " 'CONSULTING' 'investment management' 'Finance Related'\n",
      " 'Media Marketing/Entrepreneurship' 'Director of Admissions'\n",
      " 'Consultin \\\\ Management'\n",
      " 'Financial Mathematics-Investment Bank or Hedge Fund-Derivatives Quant Analyst'\n",
      " 'Work in an investment bank' 'M&A Advisory' 'millionaire'\n",
      " 'Fundraising for Non-Profits' 'Money Management' 'General Management'\n",
      " 'Public School Principal' 'Media Management' 'Public Finance'\n",
      " 'Business Management' 'private equity' 'Health care finance'\n",
      " 'Entrepreneurship' 'Fixed Income Sales & Trading'\n",
      " 'Consulting, later Arts or Non-Profit' 'Finance/Economics'\n",
      " 'Investment Banker' 'consultant'\n",
      " 'Business Management and Information Technology' 'self-made millionare'\n",
      " 'To go into Finance' 'Private Equity - Leveraged Buy-Outs' 'Management'\n",
      " 'General management/consulting']\n",
      "==========\n",
      "Career Code 8.0\n",
      "['Real Estate' 'Real Estate/ Private Equity']\n",
      "==========\n",
      "Career Code 9.0\n",
      "['Congresswoman, and comedian'\n",
      " 'To create early childhood intervention programs'\n",
      " 'health/nutrition oriented social worker' 'Social Worker'\n",
      " 'Social work with children' 'Speech Language Pathologist'\n",
      " 'Social Work Administration' 'social worker' 'Social Services/ Policy'\n",
      " 'Clinical Social Worker' 'international development work' 'Nonprofit'\n",
      " 'Child Rights' 'Development work on field in the middle of nowhere'\n",
      " 'International Development' 'UN Civil Servant'\n",
      " 'Humanitarian Affairs/Human Rights'\n",
      " 'International affairs related career' 'public service'\n",
      " 'Security Policy - Homeland Defense'\n",
      " 'reorganizing society. no, I am not being flip.' 'Intl Development'\n",
      " \"Diplomat / Int'l civil servant\" 'Diplomat/Business'\n",
      " 'Economic Policy Advisor on Latin America' 'Energy Management' 'Diplomat'\n",
      " 'Work at the UN' 'Foreign Service'\n",
      " 'Exec. Director of social service non-profit']\n",
      "==========\n",
      "Career Code 10.0\n",
      "['Undecided' \"I don't know\" 'What a question!' 'if only i knew'\n",
      " \"don't know\" 'Not Sure' 'undecided' 'TBA' 'Am not sure' 'Who knows' '?'\n",
      " 'not sure yet :)' 'Make money' 'still wondering' 'Not sure yet' 'unknown'\n",
      " 'unsure' '??' 'dont know yet']\n",
      "==========\n",
      "Career Code 11.0\n",
      "['Social Worker' 'Counseling Adolescents' 'Social work' 'Social Work'\n",
      " 'Social Work Policy' 'Clinical Social Worker']\n",
      "==========\n",
      "Career Code 12.0\n",
      "['speech pathologist' 'Speech Pathologist']\n",
      "==========\n",
      "Career Code 13.0\n",
      "['GOVERNOR' 'Political Development in Africa' 'Lobbyist' 'politics'\n",
      " 'School Leadership/Politics']\n",
      "==========\n",
      "Career Code 14.0\n",
      "['Pro Beach Volleyball']\n",
      "==========\n",
      "Career Code 15.0\n",
      "['Hero' 'Energy' 'Trade Specialist' 'professional career'\n",
      " \"assistant master of the universe (otherwise it's too much work)\"]\n",
      "==========\n",
      "Career Code 16.0\n",
      "['journalism' 'Writer/journalist']\n",
      "==========\n",
      "Career Code 17.0\n",
      "['Architecture and design']\n"
     ]
    }
   ],
   "source": [
    "for i, group in df.groupby('career_c'):\n",
    "    print('=' * 10)\n",
    "    print('Career Code {}'.format(i))\n",
    "    print(group.career.unique())"
   ]
  },
  {
   "cell_type": "code",
   "execution_count": 35,
   "metadata": {},
   "outputs": [
    {
     "data": {
      "text/plain": [
       "59"
      ]
     },
     "execution_count": 35,
     "metadata": {},
     "output_type": "execute_result"
    }
   ],
   "source": [
    "df.career_c.isnull().sum()"
   ]
  },
  {
   "cell_type": "code",
   "execution_count": 36,
   "metadata": {},
   "outputs": [],
   "source": [
    "df.loc[:, 'career_c'] = df.loc[:, 'career_c'].fillna(18)"
   ]
  },
  {
   "cell_type": "code",
   "execution_count": 37,
   "metadata": {},
   "outputs": [],
   "source": [
    "df = df.drop(['career'], axis=1)"
   ]
  },
  {
   "cell_type": "code",
   "execution_count": 38,
   "metadata": {},
   "outputs": [],
   "source": [
    "df = df.drop(['sports','tvsports','exercise','dining','museums','art','hiking','gaming',\n",
    "       'clubbing','reading','tv','theater','movies','concerts','music','shopping','yoga'], axis=1)"
   ]
  },
  {
   "cell_type": "code",
   "execution_count": 39,
   "metadata": {},
   "outputs": [
    {
     "data": {
      "text/plain": [
       "0"
      ]
     },
     "execution_count": 39,
     "metadata": {},
     "output_type": "execute_result"
    }
   ],
   "source": [
    "df.drop_duplicates('iid').exphappy.isnull().sum()"
   ]
  },
  {
   "cell_type": "code",
   "execution_count": 40,
   "metadata": {},
   "outputs": [
    {
     "data": {
      "text/plain": [
       "416"
      ]
     },
     "execution_count": 40,
     "metadata": {},
     "output_type": "execute_result"
    }
   ],
   "source": [
    "df.drop_duplicates('iid').expnum.isnull().sum()"
   ]
  },
  {
   "cell_type": "code",
   "execution_count": 41,
   "metadata": {},
   "outputs": [],
   "source": [
    "df = df.drop(['expnum'], axis=1)"
   ]
  },
  {
   "cell_type": "code",
   "execution_count": 42,
   "metadata": {},
   "outputs": [],
   "source": [
    "df.loc[:, 'temp_totalsum'] = df.loc[:, ['attr1_1', 'sinc1_1', 'intel1_1', 'fun1_1', 'amb1_1', 'shar1_1']].sum(axis=1)"
   ]
  },
  {
   "cell_type": "code",
   "execution_count": 43,
   "metadata": {},
   "outputs": [],
   "source": [
    "df.loc[:, ['attr1_1', 'sinc1_1', 'intel1_1', 'fun1_1', 'amb1_1', 'shar1_1']] = \\\n",
    "(df.loc[:, ['attr1_1', 'sinc1_1', 'intel1_1', 'fun1_1', 'amb1_1', 'shar1_1']].T/df.loc[:, 'temp_totalsum'].T).T * 100"
   ]
  },
  {
   "cell_type": "code",
   "execution_count": 44,
   "metadata": {},
   "outputs": [],
   "source": [
    "df.loc[:, 'temp_totalsum'] = df.loc[:, ['attr2_1', 'sinc2_1', 'intel2_1', 'fun2_1', 'amb2_1', 'shar2_1']].sum(axis=1)"
   ]
  },
  {
   "cell_type": "code",
   "execution_count": 45,
   "metadata": {},
   "outputs": [],
   "source": [
    "df.loc[:, ['attr2_1', 'sinc2_1', 'intel2_1', 'fun2_1', 'amb2_1', 'shar2_1']] = \\\n",
    "(df.loc[:, ['attr2_1', 'sinc2_1', 'intel2_1', 'fun2_1', 'amb2_1', 'shar2_1']].T/df.loc[:, 'temp_totalsum'].T).T * 100"
   ]
  },
  {
   "cell_type": "code",
   "execution_count": 46,
   "metadata": {},
   "outputs": [],
   "source": [
    "df = df.drop(['temp_totalsum'], axis=1)"
   ]
  },
  {
   "cell_type": "code",
   "execution_count": 47,
   "metadata": {},
   "outputs": [],
   "source": [
    "for i in [4, 5]:\n",
    "    feat = ['attr{}_1'.format(i), 'sinc{}_1'.format(i), \n",
    "            'intel{}_1'.format(i), 'fun{}_1'.format(i), \n",
    "            'amb{}_1'.format(i), 'shar{}_1'.format(i)]\n",
    "    \n",
    "    if i != 4:\n",
    "        feat.remove('shar{}_1'.format(i))\n",
    "    \n",
    "    df = df.drop(feat, axis=1)"
   ]
  },
  {
   "cell_type": "code",
   "execution_count": 48,
   "metadata": {},
   "outputs": [],
   "source": [
    "df = df.drop(['wave'], axis=1)"
   ]
  },
  {
   "cell_type": "code",
   "execution_count": 49,
   "metadata": {},
   "outputs": [],
   "source": [
    "df_male = df.query('gender == 1').drop_duplicates(subset=['iid', 'pid'])\\\n",
    "                                 .drop(['gender'], axis=1)\\\n",
    "                                 .dropna()\n",
    "df_female = df.query('gender == 0').drop_duplicates(subset=['iid'])\\\n",
    "                                   .drop(['gender', 'match', 'int_corr', 'samerace'], axis=1)\\\n",
    "                                   .dropna()\n",
    "        \n",
    "df_female.columns = df_female.columns + '_f'\n",
    "\n",
    "df_final = df_male.join(df_female.set_index('iid_f'), on='pid', how='inner')\n",
    "df_final = df_final.drop(['iid', 'pid', 'pid_f'], axis=1)\n",
    "\n",
    "X = df_final.loc[:, df_final.columns != 'match'].to_numpy()\n",
    "y = df_final.match.to_numpy()"
   ]
  },
  {
   "cell_type": "code",
   "execution_count": 50,
   "metadata": {},
   "outputs": [
    {
     "data": {
      "text/plain": [
       "(877, 60)"
      ]
     },
     "execution_count": 50,
     "metadata": {},
     "output_type": "execute_result"
    }
   ],
   "source": [
    "X.shape"
   ]
  },
  {
   "cell_type": "code",
   "execution_count": 51,
   "metadata": {},
   "outputs": [
    {
     "data": {
      "text/plain": [
       "(877,)"
      ]
     },
     "execution_count": 51,
     "metadata": {},
     "output_type": "execute_result"
    }
   ],
   "source": [
    "y.shape"
   ]
  },
  {
   "cell_type": "markdown",
   "metadata": {},
   "source": [
    "Разбейте датасет на трейн и валидацию. Подберите на валидации оптимальный критерий  информативности. \n",
    "Постройте графики зависимости точности на валидации от глубины дерева, от минимального числа объектов для сплита. \n",
    "Какой максимальной точности удалось достигнуть?"
   ]
  },
  {
   "cell_type": "code",
   "execution_count": 52,
   "metadata": {},
   "outputs": [],
   "source": [
    "X_train, X_test, y_train, y_test = train_test_split(X, y, test_size=0.1)"
   ]
  },
  {
   "cell_type": "code",
   "execution_count": 53,
   "metadata": {},
   "outputs": [
    {
     "name": "stdout",
     "output_type": "stream",
     "text": [
      "(789, 60)\n",
      "(88, 60)\n"
     ]
    }
   ],
   "source": [
    "print(X_train.shape)\n",
    "print(X_test.shape)"
   ]
  },
  {
   "cell_type": "code",
   "execution_count": 54,
   "metadata": {},
   "outputs": [],
   "source": [
    "depth_grid = np.arange(3, 10)\n",
    "samples_split_grid = np.arange(2, 10)\n",
    "criterion_grid = ['gini', 'entropy', 'classification_error']\n",
    "\n",
    "scores = {'gini' : np.zeros((depth_grid.size, samples_split_grid.size)),\n",
    "          'entropy': np.zeros((depth_grid.size, samples_split_grid.size)),\n",
    "          'classification_error': np.zeros((depth_grid.size, samples_split_grid.size))}"
   ]
  },
  {
   "cell_type": "code",
   "execution_count": 55,
   "metadata": {},
   "outputs": [],
   "source": [
    "def mean_val_score(clf, X, y, n_splits=5):\n",
    "    scores = []\n",
    "    kf = KFold(n_splits=n_splits)\n",
    "    for train, test in kf.split(X):\n",
    "        clf.fit(X[train], y[train])\n",
    "        scores.append(accuracy_score(y_pred=clf.predict(X[test]), y_true=y[test]))\n",
    "    return np.mean(scores)"
   ]
  },
  {
   "cell_type": "code",
   "execution_count": 56,
   "metadata": {
    "scrolled": true
   },
   "outputs": [
    {
     "data": {
      "text/plain": [
       "{'gini': array([[0.84024026, 0.84024026, 0.84024026, 0.83897444, 0.83897444,\n",
       "         0.83897444, 0.83897444, 0.83897444],\n",
       "        [0.8415464 , 0.84281222, 0.84281222, 0.8415464 , 0.8415464 ,\n",
       "         0.8415464 , 0.8415464 , 0.84281222],\n",
       "        [0.83899863, 0.84026445, 0.84026445, 0.83899863, 0.83899863,\n",
       "         0.83899863, 0.83899863, 0.84026445],\n",
       "        [0.80598242, 0.80851407, 0.80851407, 0.80724825, 0.80724825,\n",
       "         0.80977989, 0.81360155, 0.81486737],\n",
       "        [0.79208256, 0.79461421, 0.79461421, 0.79334838, 0.79461421,\n",
       "         0.7996775 , 0.8060308 , 0.80729662],\n",
       "        [0.77688462, 0.77941627, 0.77941627, 0.77815045, 0.78069016,\n",
       "         0.78575345, 0.79084093, 0.79210675],\n",
       "        [0.75534145, 0.7578731 , 0.7578731 , 0.75534145, 0.75788116,\n",
       "         0.76421833, 0.76803999, 0.77057164]]),\n",
       " 'entropy': array([[0.84281222, 0.84281222, 0.84281222, 0.84281222, 0.84281222,\n",
       "         0.84281222, 0.84281222, 0.84281222],\n",
       "        [0.84027251, 0.84027251, 0.84027251, 0.84027251, 0.84027251,\n",
       "         0.84027251, 0.84027251, 0.84027251],\n",
       "        [0.83520116, 0.83520116, 0.83393534, 0.83393534, 0.83393534,\n",
       "         0.83393534, 0.83773281, 0.83773281],\n",
       "        [0.81744739, 0.81744739, 0.81364992, 0.81364992, 0.81364992,\n",
       "         0.81364992, 0.81744739, 0.81618157],\n",
       "        [0.81872128, 0.81872128, 0.81239216, 0.81239216, 0.81239216,\n",
       "         0.81239216, 0.81491575, 0.81492381],\n",
       "        [0.80728856, 0.80728856, 0.79969362, 0.79969362, 0.80096751,\n",
       "         0.80096751, 0.80349109, 0.80477304],\n",
       "        [0.79334032, 0.79334032, 0.78574538, 0.78574538, 0.78828509,\n",
       "         0.78828509, 0.79080868, 0.79335645]]),\n",
       " 'classification_error': array([[0.84535193, 0.84535193, 0.84282029, 0.84282029, 0.84282029,\n",
       "         0.84282029, 0.8415464 , 0.8415464 ],\n",
       "        [0.84535193, 0.84535193, 0.84282029, 0.84282029, 0.84282029,\n",
       "         0.84282029, 0.8415464 , 0.8415464 ],\n",
       "        [0.83775699, 0.83775699, 0.83522535, 0.83522535, 0.83522535,\n",
       "         0.83522535, 0.83395146, 0.83395146],\n",
       "        [0.83902282, 0.83902282, 0.83649117, 0.83649117, 0.83649117,\n",
       "         0.83649117, 0.83521729, 0.83521729],\n",
       "        [0.83016206, 0.83016206, 0.82889623, 0.82889623, 0.82889623,\n",
       "         0.82889623, 0.82762235, 0.82762235],\n",
       "        [0.830154  , 0.830154  , 0.82762235, 0.82762235, 0.82762235,\n",
       "         0.82762235, 0.82634846, 0.82634846],\n",
       "        [0.8250907 , 0.8250907 , 0.82255906, 0.82255906, 0.82255906,\n",
       "         0.82255906, 0.82128517, 0.82128517]])}"
      ]
     },
     "execution_count": 56,
     "metadata": {},
     "output_type": "execute_result"
    }
   ],
   "source": [
    "for d_num, depth in enumerate(depth_grid):\n",
    "    for s_num, samples_split in enumerate(samples_split_grid):\n",
    "        for criterion in criterion_grid:\n",
    "            my_clf = MyDecisionTreeClassifier(min_samples_split=samples_split,\n",
    "                                              max_depth=depth,\n",
    "                                              criterion=criterion)\n",
    "            scores[criterion][d_num, s_num] = mean_val_score(my_clf, X_train, y_train)\n",
    "scores"
   ]
  },
  {
   "cell_type": "code",
   "execution_count": 57,
   "metadata": {},
   "outputs": [],
   "source": [
    "depth_grid = np.arange(2, 11)\n",
    "scores_d = {'gini' : [],\n",
    "          'entropy': [],\n",
    "          'classification_error': []}\n",
    "\n",
    "for depth in depth_grid:\n",
    "    for criterion in criterion_grid:\n",
    "        my_clf = MyDecisionTreeClassifier(min_samples_split=2,\n",
    "                                          max_depth=depth,\n",
    "                                          criterion=criterion)\n",
    "        scores_d[criterion].append(mean_val_score(my_clf, X_train, y_train))"
   ]
  },
  {
   "cell_type": "code",
   "execution_count": 58,
   "metadata": {},
   "outputs": [],
   "source": [
    "%matplotlib inline\n",
    "plt.style.use('ggplot')"
   ]
  },
  {
   "cell_type": "code",
   "execution_count": 59,
   "metadata": {
    "scrolled": false
   },
   "outputs": [
    {
     "data": {
      "text/plain": [
       "<matplotlib.legend.Legend at 0x7f8fcd975e50>"
      ]
     },
     "execution_count": 59,
     "metadata": {},
     "output_type": "execute_result"
    },
    {
     "data": {
      "image/png": "[encoded data removed]",
      "text/plain": [
       "<Figure size 864x360 with 1 Axes>"
      ]
     },
     "metadata": {},
     "output_type": "display_data"
    }
   ],
   "source": [
    "fig = plt.figure()\n",
    "ax1 = fig.add_subplot(1, 1, 1)\n",
    "ax1.set_ylabel('val_score')\n",
    "ax1.set_xlabel('max_depth')\n",
    "ax1.set_title('Зависимость точности на валидации от максимальной глубины')\n",
    "fig.set_figheight(5)\n",
    "fig.set_figwidth(12)\n",
    "colors = ['r', 'g', 'b']\n",
    "\n",
    "for i, criterion in enumerate(scores):\n",
    "    ax1.legend(criterion)\n",
    "    ax1.plot(depth_grid, scores_d[criterion], c=colors[i], label=criterion)\n",
    "    \n",
    "ax1.legend()"
   ]
  },
  {
   "cell_type": "code",
   "execution_count": 60,
   "metadata": {},
   "outputs": [],
   "source": [
    "samples_split_grid = np.arange(2, 20, 2)\n",
    "scores_s = {'gini' : [],\n",
    "          'entropy': [],\n",
    "          'classification_error': []}\n",
    "\n",
    "for samples_split in samples_split_grid:\n",
    "    for criterion in criterion_grid:\n",
    "        my_clf = MyDecisionTreeClassifier(min_samples_split=samples_split,\n",
    "                                          max_depth=5,\n",
    "                                          criterion=criterion)\n",
    "        scores_s[criterion].append(mean_val_score(my_clf, X_train, y_train))"
   ]
  },
  {
   "cell_type": "code",
   "execution_count": 61,
   "metadata": {},
   "outputs": [
    {
     "data": {
      "text/plain": [
       "<matplotlib.legend.Legend at 0x7f8fcd8cbed0>"
      ]
     },
     "execution_count": 61,
     "metadata": {},
     "output_type": "execute_result"
    },
    {
     "data": {
      "image/png": "[encoded data removed]",
      "text/plain": [
       "<Figure size 864x360 with 1 Axes>"
      ]
     },
     "metadata": {},
     "output_type": "display_data"
    }
   ],
   "source": [
    "fig = plt.figure()\n",
    "ax1 = fig.add_subplot(1, 1, 1)\n",
    "ax1.set_ylabel('val_score')\n",
    "ax1.set_xlabel('samples_split')\n",
    "ax1.set_title('Зависимость точности на валидации от минимального числа объектов для сплита')\n",
    "fig.set_figheight(5)\n",
    "fig.set_figwidth(12)\n",
    "colors = ['r', 'g', 'b']\n",
    "\n",
    "for i, criterion in enumerate(scores):\n",
    "    ax1.legend(criterion)\n",
    "    ax1.plot(samples_split_grid, scores_s[criterion], c=colors[i], label=criterion)\n",
    "    \n",
    "ax1.legend()"
   ]
  },
  {
   "cell_type": "code",
   "execution_count": 63,
   "metadata": {},
   "outputs": [],
   "source": [
    "best_criterion = 'gini'\n",
    "best_depth = 5\n",
    "best_sample_splits = 3"
   ]
  },
  {
   "cell_type": "code",
   "execution_count": 64,
   "metadata": {},
   "outputs": [
    {
     "name": "stdout",
     "output_type": "stream",
     "text": [
      "0.8863636363636364\n"
     ]
    }
   ],
   "source": [
    "my_clf = MyDecisionTreeClassifier(min_samples_split=best_sample_splits,\n",
    "                                              max_depth=best_depth,\n",
    "                                              criterion=best_criterion)\n",
    "my_clf.fit(X_train, y_train)\n",
    "clf.fit(X_train, y_train)\n",
    "print(accuracy_score(y_pred=my_clf.predict(X_test), y_true=y_test))"
   ]
  },
  {
   "cell_type": "markdown",
   "metadata": {},
   "source": [
    "## Находим самые важные признаки (2 балла)\n",
    "\n"
   ]
  },
  {
   "cell_type": "markdown",
   "metadata": {},
   "source": [
    "По построенному дереву  легко понять, какие признаки лучше всего помогли решить задачу. Часто это бывает нужно  не только  для сокращения размерности в данных, но и для лучшего понимания прикладной задачи. Например, Вы хотите понять, какие признаки стоит еще конструировать -- для этого нужно понимать, какие из текущих лучше всего работают в дереве. "
   ]
  },
  {
   "cell_type": "markdown",
   "metadata": {},
   "source": [
    "Самый простой метод -- посчитать число сплитов, где использовался данные признак. Это не лучший вариант, так как по признаку который принимает всего 2 значения, но который почти точно разделяет выборку, число сплитов будет очень 1, но при этом признак сам очень хороший. \n",
    "В этом задании предлагается для каждого признака считать суммарный gain (в лекции обозначено как Q) при использовании этого признака в сплите. Тогда даже у очень хороших признаков с маленьким число сплитов это значение должно быть довольно высоким.  "
   ]
  },
  {
   "cell_type": "markdown",
   "metadata": {},
   "source": [
    "Реализовать это довольно просто: создаете словарь номер фичи : суммарный гейн и добавляете в нужную фичу каждый раз, когда используете ее при построении дерева. "
   ]
  },
  {
   "cell_type": "markdown",
   "metadata": {},
   "source": [
    "Добавьте функционал, который определяет значения feature importance. Обучите дерево на датасете Speed Dating Data.\n",
    "Выведите 10 главных фичей по важности."
   ]
  },
  {
   "cell_type": "code",
   "execution_count": 65,
   "metadata": {},
   "outputs": [],
   "source": [
    "features = np.array(df_final.loc[:, df_final.columns != 'match'].columns)"
   ]
  },
  {
   "cell_type": "code",
   "execution_count": 66,
   "metadata": {},
   "outputs": [
    {
     "name": "stdout",
     "output_type": "stream",
     "text": [
      "samerace\n",
      "field_cd\n",
      "tuition\n",
      "age\n",
      "mn_sat\n",
      "int_corr\n",
      "imprace\n",
      "imprelig\n",
      "goal\n",
      "go_out\n"
     ]
    }
   ],
   "source": [
    "print(*features[np.argsort(np.asarray(list(my_clf.get_feature_importance().values())))[:10]], sep='\\n')"
   ]
  },
  {
   "cell_type": "markdown",
   "metadata": {},
   "source": [
    "## Фидбек (бесценно)"
   ]
  },
  {
   "cell_type": "markdown",
   "metadata": {},
   "source": [
    "* Какие аспекты обучения деревьев решений Вам показались непонятными? Какое место стоит дополнительно объяснить?"
   ]
  },
  {
   "cell_type": "markdown",
   "metadata": {},
   "source": [
    "### Ваш ответ здесь"
   ]
  },
  {
   "cell_type": "markdown",
   "metadata": {},
   "source": [
    "* Здесь Вы можете оставить отзыв о этой домашней работе или о всем курсе."
   ]
  },
  {
   "cell_type": "markdown",
   "metadata": {},
   "source": [
    "### ВАШ ОТЗЫВ ЗДЕСЬ\n",
    "\n"
   ]
  },
  {
   "cell_type": "code",
   "execution_count": null,
   "metadata": {},
   "outputs": [],
   "source": [
    "Хотелось бы, чтобы было показано, с помощью чего можно было добиться необходимой скорости работы\n",
    "во второй части задания"
   ]
  },
  {
   "cell_type": "code",
   "execution_count": null,
   "metadata": {},
   "outputs": [],
   "source": []
  }
 ],
 "metadata": {
  "anaconda-cloud": {},
  "kernelspec": {
   "display_name": "Python 3",
   "language": "python",
   "name": "python3"
  },
  "language_info": {
   "codemirror_mode": {
    "name": "ipython",
    "version": 3
   },
   "file_extension": ".py",
   "mimetype": "text/x-python",
   "name": "python",
   "nbconvert_exporter": "python",
   "pygments_lexer": "ipython3",
   "version": "3.7.10"
  }
 },
 "nbformat": 4,
 "nbformat_minor": 2
}
