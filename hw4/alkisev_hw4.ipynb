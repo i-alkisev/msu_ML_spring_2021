{
 "cells": [
  {
   "cell_type": "markdown",
   "metadata": {},
   "source": [
    "### Алгоритмы интеллектуальной обработки больших объемов данных\n",
    "## Домашнее задание №4 - Градиентный бустинг\n"
   ]
  },
  {
   "cell_type": "markdown",
   "metadata": {},
   "source": [
    "**Общая информация**\n",
    "\n",
    "**Срок сдачи:** 10 мая 2021, 08:30   \n",
    "**Штраф за опоздание:** -2 балла после 08:30 10 мая, -4 балла после 08:30 17 мая, -6 баллов после 08:30 24 мая, -8 баллов после 08:30 31 мая.\n",
    "\n",
    "При отправлении ДЗ указывайте фамилию в названии файла Присылать ДЗ необходимо в виде ссылки на свой github репозиторий на почту ml1.sphere@mail.ru с указанием темы в следующем формате:\n",
    "[ML0221, Задание 4] Фамилия Имя. \n",
    "\n",
    "\n",
    "Используйте данный Ipython Notebook при оформлении домашнего задания."
   ]
  },
  {
   "cell_type": "markdown",
   "metadata": {},
   "source": [
    "##  Считаем производные для функций потерь (1 балл)"
   ]
  },
  {
   "cell_type": "markdown",
   "metadata": {},
   "source": [
    "Мы будем реализовать градиентный бустинг для 3 функций потерь:\n",
    "\n",
    "1) MSE  $L(a(x_i), y_i) = (y_i - a(x_i)) ^ 2$\n",
    "\n",
    "2) Экспоненциальная  $L(a(x_i), y_i) = exp( -a(x_i) y_i), y_i \\in \\{-1, 1\\}$\n",
    "\n",
    "3) Логистическая  $L(a(x_i), y_i) = \\log (1 + exp( -a(x_i) y_i)), y_i \\in \\{-1, 1\\}$\n",
    "\n",
    "где $a(x_i)$ предсказание бустинга на итом объекте. \n",
    "\n",
    "Для каждой функции потерь напишите таргет, на который будет настраиваться каждое дерево в бустинге. "
   ]
  },
  {
   "cell_type": "markdown",
   "metadata": {},
   "source": [
    "Ваше решение тут"
   ]
  },
  {
   "cell_type": "markdown",
   "metadata": {},
   "source": [
    "1) $ - \\frac{\\partial{L}}{\\partial{a}} = 2 (y_i - a(x_i)) $\n",
    "\n",
    "2) $ - \\frac{\\partial{L}}{\\partial{a}} = y_i exp( -a(x_i) y_i ) $\n",
    "\n",
    "3) $ - \\frac{\\partial{L}}{\\partial{a}} = \\frac{y_i}{1 + exp( a(x_i) y_i )} $"
   ]
  },
  {
   "cell_type": "markdown",
   "metadata": {},
   "source": [
    "##  Реализуем градиентный бустинг (3 балла)"
   ]
  },
  {
   "cell_type": "markdown",
   "metadata": {},
   "source": [
    "Реализуйте класс градиентного бустинга для классификации. Ваша реализация бустинга должна работать по точности не более чем на 5 процентов хуже чем GradientBoostingClassifier из sklearn. \n"
   ]
  },
  {
   "cell_type": "markdown",
   "metadata": {},
   "source": [
    "Детали реализации:\n",
    "\n",
    "-- должно поддерживаться 3 функции потерь\n",
    "\n",
    "-- сами базовые алгоритмы(деревья, линейные модели и тп) реализовать не надо, просто возьмите готовые из sklearn\n",
    "\n",
    "-- в качестве функции потерь для построения одного дерева используйте MSE\n",
    "\n",
    "-- шаг в бустинге можно не подбирать, можно брать константный\n",
    "\n",
    "-- можно брать разные модели в качестве инициализации бустинга\n",
    "\n",
    "-- должны поддерживаться следующие параметры:\n",
    "\n",
    "а) число итераций\n",
    "б) размер шага\n",
    "в) процент случайных фичей при построении одного дерева\n",
    "д) процент случайных объектов при построении одного дерева\n",
    "е) параметры базового алгоритма (передавайте через **kwargs)"
   ]
  },
  {
   "cell_type": "code",
   "execution_count": 1,
   "metadata": {},
   "outputs": [],
   "source": [
    "import numpy as np\n",
    "\n",
    "from sklearn.datasets import load_wine\n",
    "from sklearn.ensemble import GradientBoostingClassifier\n",
    "from sklearn.metrics import accuracy_score\n",
    "from sklearn.model_selection import train_test_split\n",
    "from sklearn.tree import DecisionTreeRegressor\n",
    "import matplotlib.pyplot as plt\n",
    "from sklearn.model_selection import StratifiedKFold\n",
    "from tqdm.notebook import tqdm\n",
    "from sklearn.ensemble import RandomForestRegressor\n",
    "\n",
    "%matplotlib inline\n",
    "\n",
    "plt.style.use('ggplot')"
   ]
  },
  {
   "cell_type": "code",
   "execution_count": 2,
   "metadata": {},
   "outputs": [],
   "source": [
    "class MyGradientBoostingClassifier:\n",
    "\n",
    "    def __init__(self, loss='mse', learning_rate=0.1, n_estimators=100,\n",
    "                 colsample=1.0, subsample=1.0, *args, **kwargs):\n",
    "        \"\"\"\n",
    "        loss -- один из 3 лоссов: 'mse', 'exponential', 'deviance'\n",
    "        learning_rate -- шаг бустинга\n",
    "        n_estimators -- число итераций\n",
    "        colsample -- процент рандомных признаков при обучнеии одного алгоритма\n",
    "        colsample -- процент рандомных объектов при обучнеии одного алгоритма\n",
    "        args, kwargs -- параметры  базовых моделей\n",
    "        \"\"\"\n",
    "        self.loss = loss\n",
    "        self.learning_rate = learning_rate\n",
    "        self.n_estimators = n_estimators\n",
    "        self.colsample = colsample\n",
    "        self.subsample = subsample\n",
    "        self.args = args\n",
    "        self.kwargs = kwargs\n",
    "        self.init_model = None\n",
    "        self.models = []\n",
    "        self.attr_indices = []\n",
    "    \n",
    "    def fit(self, X, y, base_model=DecisionTreeRegressor, init_model=None):\n",
    "        \"\"\"\n",
    "        X -- объекты для обучения:\n",
    "        y -- таргеты для обучения\n",
    "        base_model -- класс базовых моделей, например sklearn.tree.DecisionTreeRegressor\n",
    "        init_model -- класс для первой модели, если None то берем константу (только для посл задания)\n",
    "        \"\"\"\n",
    "        if init_model is not None:\n",
    "            self.init_model = init_model()\n",
    "            self.init_model.fit(X, y)\n",
    "            f = self.init_model.predict(X)\n",
    "        else:\n",
    "            f = np.zeros(X.shape[0])\n",
    "        for i in range(self.n_estimators):\n",
    "            x_idx = np.random.choice(X.shape[0], round(X.shape[0] * self.subsample), replace=False)\n",
    "            attr_idx = np.random.choice(X.shape[1], round(X.shape[1] * self.colsample), replace=False)\n",
    "            self.attr_indices.append(attr_idx)\n",
    "            X_sample = np.array(X[x_idx])\n",
    "            X_sample = X_sample[:, attr_idx]\n",
    "            y_sample = y[x_idx]\n",
    "            f_prev = f[x_idx]\n",
    "            if self.loss == 'mse':\n",
    "                target = 2 * (y_sample - f_prev)\n",
    "            elif self.loss == 'exponential':\n",
    "                target = y_sample * np.exp(-f_prev * y_sample)\n",
    "            elif self.loss == 'deviance':\n",
    "                target = y_sample / (1 + np.exp(f_prev * y_sample))\n",
    "            else:\n",
    "                raise ValueError('Invalid loss: \"' + self.loss + '\"')\n",
    "            self.models.append(base_model(*self.args, **self.kwargs))\n",
    "            self.models[-1].fit(X_sample, target)\n",
    "            f[x_idx] += self.learning_rate * self.models[-1].predict(X_sample)\n",
    "            \n",
    "        \n",
    "    def predict(self, X):\n",
    "        if self.init_model is None:\n",
    "            y = np.zeros(X.shape[0])\n",
    "        else:\n",
    "            y = np.asarray(self.init_model.predict(X))\n",
    "        sum_f = np.zeros(X.shape[0])\n",
    "        for k, f_k in enumerate(self.models):\n",
    "            sum_f += f_k.predict(X[:, self.attr_indices[k]])\n",
    "        y += self.learning_rate * sum_f\n",
    "        y = y.round()\n",
    "        return y\n"
   ]
  },
  {
   "cell_type": "code",
   "execution_count": 3,
   "metadata": {},
   "outputs": [],
   "source": [
    "my_clf = MyGradientBoostingClassifier()\n",
    "clf = GradientBoostingClassifier()"
   ]
  },
  {
   "cell_type": "code",
   "execution_count": 4,
   "metadata": {},
   "outputs": [],
   "source": [
    "wine = load_wine()\n",
    "X_train, X_test, y_train, y_test = train_test_split(wine.data, wine.target, test_size=0.1, stratify=wine.target)"
   ]
  },
  {
   "cell_type": "code",
   "execution_count": 5,
   "metadata": {},
   "outputs": [
    {
     "name": "stdout",
     "output_type": "stream",
     "text": [
      "1.0\n",
      "1.0\n"
     ]
    }
   ],
   "source": [
    "my_clf.fit(X_train, y_train)\n",
    "clf.fit(X_train, y_train)\n",
    "print(accuracy_score(y_pred=clf.predict(X_test), y_true=y_test))\n",
    "print(accuracy_score(y_pred=my_clf.predict(X_test), y_true=y_test))"
   ]
  },
  {
   "cell_type": "markdown",
   "metadata": {},
   "source": [
    "## Подбираем параметры (2 балла)\n",
    "\n",
    "Давайте попробуем применить Ваш бустинг для предсказаний цены домов в Калифорнии. Чтобы можно было попробовтаь разные функции потерь, переведем по порогу таргет в 2 класса: дорогие и дешевые дома."
   ]
  },
  {
   "cell_type": "markdown",
   "metadata": {},
   "source": [
    "В задании нужно\n",
    "\n",
    "1) Построить график точности в зависимости от числа итераций на валидации.\n",
    "\n",
    "2) Подобрать оптимальные параметры Вашего бустинга на валидации. \n"
   ]
  },
  {
   "cell_type": "code",
   "execution_count": 6,
   "metadata": {},
   "outputs": [],
   "source": [
    "from sklearn.datasets import fetch_california_housing\n",
    "X, y = fetch_california_housing(return_X_y=True)"
   ]
  },
  {
   "cell_type": "code",
   "execution_count": 7,
   "metadata": {},
   "outputs": [
    {
     "name": "stdout",
     "output_type": "stream",
     "text": [
      "(20640, 8) (20640,)\n"
     ]
    }
   ],
   "source": [
    "# Превращаем регрессию в классификацию\n",
    "y = (y > 2.0).astype(int)\n",
    "print(X.shape, y.shape)"
   ]
  },
  {
   "cell_type": "code",
   "execution_count": 8,
   "metadata": {},
   "outputs": [
    {
     "data": {
      "text/plain": [
       "array([ 1.,  1.,  1., ..., -1., -1., -1.])"
      ]
     },
     "execution_count": 8,
     "metadata": {},
     "output_type": "execute_result"
    }
   ],
   "source": [
    "y = (y - 0.5) * 2\n",
    "y"
   ]
  },
  {
   "cell_type": "code",
   "execution_count": 9,
   "metadata": {},
   "outputs": [],
   "source": [
    "def mean_val_score(clf, X, y, n_splits=5, *args, **kwargs):\n",
    "    scores = []\n",
    "    kf = StratifiedKFold(n_splits=n_splits)\n",
    "    for train, test in kf.split(X, y):\n",
    "        clf.fit(X[train], y[train], **kwargs)\n",
    "        y_pred = clf.predict(X[test])\n",
    "        y_pred[y_pred >= 0] = 1\n",
    "        y_pred[y_pred < 0] = -1\n",
    "        scores.append(accuracy_score(y_pred=y_pred, y_true=y[test]))\n",
    "    return np.mean(scores)"
   ]
  },
  {
   "cell_type": "code",
   "execution_count": 10,
   "metadata": {},
   "outputs": [
    {
     "data": {
      "application/vnd.jupyter.widget-view+json": {
       "model_id": "915de4d75a7346cea1f98a36b3212b0d",
       "version_major": 2,
       "version_minor": 0
      },
      "text/plain": [
       "  0%|          | 0/10 [00:00<?, ?it/s]"
      ]
     },
     "metadata": {},
     "output_type": "display_data"
    },
    {
     "data": {
      "application/vnd.jupyter.widget-view+json": {
       "model_id": "667d59e9cf094025a306e1f9d3c4def2",
       "version_major": 2,
       "version_minor": 0
      },
      "text/plain": [
       "  0%|          | 0/10 [00:00<?, ?it/s]"
      ]
     },
     "metadata": {},
     "output_type": "display_data"
    },
    {
     "data": {
      "application/vnd.jupyter.widget-view+json": {
       "model_id": "53fcc328a43e4e3ebcfc8091c8cd9e79",
       "version_major": 2,
       "version_minor": 0
      },
      "text/plain": [
       "  0%|          | 0/10 [00:00<?, ?it/s]"
      ]
     },
     "metadata": {},
     "output_type": "display_data"
    }
   ],
   "source": [
    "n_grid = np.arange(50, 150, 10, dtype=np.int)\n",
    "scores_1 = {'mse' : [],\n",
    "          'exponential': [],\n",
    "          'deviance': []}\n",
    "\n",
    "for loss in scores_1:\n",
    "    for n in tqdm(n_grid):\n",
    "        my_clf = MyGradientBoostingClassifier(loss=loss, n_estimators=n)\n",
    "        scores_1[loss].append(mean_val_score(my_clf, X, y, n_splits=3))"
   ]
  },
  {
   "cell_type": "code",
   "execution_count": 12,
   "metadata": {},
   "outputs": [
    {
     "data": {
      "text/plain": [
       "<matplotlib.legend.Legend at 0x7fbb5eda3ad0>"
      ]
     },
     "execution_count": 12,
     "metadata": {},
     "output_type": "execute_result"
    },
    {
     "data": {
      "image/png": "[encoded data removed]",
      "text/plain": [
       "<Figure size 864x360 with 1 Axes>"
      ]
     },
     "metadata": {},
     "output_type": "display_data"
    }
   ],
   "source": [
    "fig = plt.figure()\n",
    "ax1 = fig.add_subplot(1, 1, 1)\n",
    "ax1.set_ylabel('val_score')\n",
    "ax1.set_xlabel('n_estimators')\n",
    "ax1.set_title('Зависимость точности на валидации от числа итераций')\n",
    "fig.set_figheight(5)\n",
    "fig.set_figwidth(12)\n",
    "colors = ['r', 'g', 'b']\n",
    "\n",
    "for i, loss in enumerate(scores_1):\n",
    "    ax1.legend(loss)\n",
    "    ax1.plot(n_grid, scores_1[loss], c=colors[i], label=loss)\n",
    "    \n",
    "ax1.legend()"
   ]
  },
  {
   "cell_type": "code",
   "execution_count": 13,
   "metadata": {},
   "outputs": [
    {
     "data": {
      "application/vnd.jupyter.widget-view+json": {
       "model_id": "7590fb3f2544406895be22d5806ca65e",
       "version_major": 2,
       "version_minor": 0
      },
      "text/plain": [
       "  0%|          | 0/6 [00:00<?, ?it/s]"
      ]
     },
     "metadata": {},
     "output_type": "display_data"
    },
    {
     "data": {
      "application/vnd.jupyter.widget-view+json": {
       "model_id": "e304668c0fd4490e945c8793cd5b6793",
       "version_major": 2,
       "version_minor": 0
      },
      "text/plain": [
       "  0%|          | 0/6 [00:00<?, ?it/s]"
      ]
     },
     "metadata": {},
     "output_type": "display_data"
    },
    {
     "data": {
      "application/vnd.jupyter.widget-view+json": {
       "model_id": "21c02d5b0e8541cfb2247a9119044f13",
       "version_major": 2,
       "version_minor": 0
      },
      "text/plain": [
       "  0%|          | 0/6 [00:00<?, ?it/s]"
      ]
     },
     "metadata": {},
     "output_type": "display_data"
    }
   ],
   "source": [
    "#learning_rate\n",
    "\n",
    "learning_rate_grid = np.logspace(1, -3, 6)\n",
    "scores_2 = {'mse' : [],\n",
    "          'exponential': [],\n",
    "          'deviance': []}\n",
    "\n",
    "for loss in scores_2:\n",
    "    for learning_rate in tqdm(learning_rate_grid):\n",
    "        my_clf = MyGradientBoostingClassifier(loss=loss, learning_rate=learning_rate)\n",
    "        scores_2[loss].append(mean_val_score(my_clf, X, y, n_splits=3))"
   ]
  },
  {
   "cell_type": "code",
   "execution_count": 16,
   "metadata": {},
   "outputs": [
    {
     "data": {
      "text/plain": [
       "<matplotlib.legend.Legend at 0x7fbb5ed90090>"
      ]
     },
     "execution_count": 16,
     "metadata": {},
     "output_type": "execute_result"
    },
    {
     "data": {
      "image/png": "[encoded data removed]",
      "text/plain": [
       "<Figure size 864x360 with 1 Axes>"
      ]
     },
     "metadata": {},
     "output_type": "display_data"
    }
   ],
   "source": [
    "fig = plt.figure()\n",
    "ax1 = fig.add_subplot(1, 1, 1)\n",
    "ax1.set_ylabel('val_score')\n",
    "ax1.set_xlabel('learning_rate')\n",
    "ax1.set_title('Зависимость точности на валидации от learning_rate')\n",
    "fig.set_figheight(5)\n",
    "fig.set_figwidth(12)\n",
    "colors = ['r', 'g', 'b']\n",
    "\n",
    "for i, loss in enumerate(scores_2):\n",
    "    ax1.legend(loss)\n",
    "    ax1.plot(learning_rate_grid, scores_2[loss], c=colors[i], label=loss)\n",
    "\n",
    "ax1.set_xscale('log')\n",
    "ax1.legend()"
   ]
  },
  {
   "cell_type": "code",
   "execution_count": 17,
   "metadata": {},
   "outputs": [
    {
     "data": {
      "application/vnd.jupyter.widget-view+json": {
       "model_id": "0ed4f926edf9453a8aa1e2c11a97b5e6",
       "version_major": 2,
       "version_minor": 0
      },
      "text/plain": [
       "  0%|          | 0/6 [00:00<?, ?it/s]"
      ]
     },
     "metadata": {},
     "output_type": "display_data"
    },
    {
     "data": {
      "application/vnd.jupyter.widget-view+json": {
       "model_id": "b1c60ee145fe4715bad0d4807161da64",
       "version_major": 2,
       "version_minor": 0
      },
      "text/plain": [
       "  0%|          | 0/6 [00:00<?, ?it/s]"
      ]
     },
     "metadata": {},
     "output_type": "display_data"
    },
    {
     "data": {
      "application/vnd.jupyter.widget-view+json": {
       "model_id": "a33b7634e6e94d90a0ad8734b1c1fda4",
       "version_major": 2,
       "version_minor": 0
      },
      "text/plain": [
       "  0%|          | 0/6 [00:00<?, ?it/s]"
      ]
     },
     "metadata": {},
     "output_type": "display_data"
    }
   ],
   "source": [
    "#colsample\n",
    "\n",
    "colsample_grid = np.array([0.1, 0.3, 0.5, 0.7, 0.9, 1.0])\n",
    "scores_3 = {'mse' : [],\n",
    "          'exponential': [],\n",
    "          'deviance': []}\n",
    "\n",
    "for loss in scores_3:\n",
    "    for colsample in tqdm(colsample_grid):\n",
    "        my_clf = MyGradientBoostingClassifier(loss=loss, colsample=colsample)\n",
    "        scores_3[loss].append(mean_val_score(my_clf, X, y, n_splits=3))"
   ]
  },
  {
   "cell_type": "code",
   "execution_count": 18,
   "metadata": {},
   "outputs": [
    {
     "data": {
      "text/plain": [
       "<matplotlib.legend.Legend at 0x7fbb60101750>"
      ]
     },
     "execution_count": 18,
     "metadata": {},
     "output_type": "execute_result"
    },
    {
     "data": {
      "image/png": "[encoded data removed]",
      "text/plain": [
       "<Figure size 864x360 with 1 Axes>"
      ]
     },
     "metadata": {},
     "output_type": "display_data"
    }
   ],
   "source": [
    "fig = plt.figure()\n",
    "ax1 = fig.add_subplot(1, 1, 1)\n",
    "ax1.set_ylabel('val_score')\n",
    "ax1.set_xlabel('colsample')\n",
    "ax1.set_title('Зависимость точности на валидации от процента рандомных признаков')\n",
    "fig.set_figheight(5)\n",
    "fig.set_figwidth(12)\n",
    "colors = ['r', 'g', 'b']\n",
    "\n",
    "for i, loss in enumerate(scores_3):\n",
    "    ax1.legend(loss)\n",
    "    ax1.plot(colsample_grid, scores_3[loss], c=colors[i], label=loss)\n",
    "\n",
    "ax1.legend()"
   ]
  },
  {
   "cell_type": "code",
   "execution_count": 19,
   "metadata": {},
   "outputs": [
    {
     "data": {
      "application/vnd.jupyter.widget-view+json": {
       "model_id": "f72126acc06c44ae9f025c6b7c2433e7",
       "version_major": 2,
       "version_minor": 0
      },
      "text/plain": [
       "  0%|          | 0/6 [00:00<?, ?it/s]"
      ]
     },
     "metadata": {},
     "output_type": "display_data"
    },
    {
     "data": {
      "application/vnd.jupyter.widget-view+json": {
       "model_id": "84e53a294315479bb898aea2aa089d90",
       "version_major": 2,
       "version_minor": 0
      },
      "text/plain": [
       "  0%|          | 0/6 [00:00<?, ?it/s]"
      ]
     },
     "metadata": {},
     "output_type": "display_data"
    },
    {
     "data": {
      "application/vnd.jupyter.widget-view+json": {
       "model_id": "68c7a919568749abbfb9ce67e2de6560",
       "version_major": 2,
       "version_minor": 0
      },
      "text/plain": [
       "  0%|          | 0/6 [00:00<?, ?it/s]"
      ]
     },
     "metadata": {},
     "output_type": "display_data"
    }
   ],
   "source": [
    "#subsample\n",
    "\n",
    "subsample_grid = np.array([0.1, 0.3, 0.5, 0.7, 0.9, 1.0])\n",
    "scores_4 = {'mse' : [],\n",
    "          'exponential': [],\n",
    "          'deviance': []}\n",
    "\n",
    "for loss in scores_4:\n",
    "    for subsample in tqdm(subsample_grid):\n",
    "        my_clf = MyGradientBoostingClassifier(loss=loss, subsample=subsample)\n",
    "        scores_4[loss].append(mean_val_score(my_clf, X, y, n_splits=3))"
   ]
  },
  {
   "cell_type": "code",
   "execution_count": 20,
   "metadata": {},
   "outputs": [
    {
     "data": {
      "text/plain": [
       "<matplotlib.legend.Legend at 0x7fbb5ea77450>"
      ]
     },
     "execution_count": 20,
     "metadata": {},
     "output_type": "execute_result"
    },
    {
     "data": {
      "image/png": "[encoded data removed]",
      "text/plain": [
       "<Figure size 864x360 with 1 Axes>"
      ]
     },
     "metadata": {},
     "output_type": "display_data"
    }
   ],
   "source": [
    "fig = plt.figure()\n",
    "ax1 = fig.add_subplot(1, 1, 1)\n",
    "ax1.set_ylabel('val_score')\n",
    "ax1.set_xlabel('subsample')\n",
    "ax1.set_title('Зависимость точности на валидации от процента рандомных объектов')\n",
    "fig.set_figheight(5)\n",
    "fig.set_figwidth(12)\n",
    "colors = ['r', 'g', 'b']\n",
    "\n",
    "for i, loss in enumerate(scores_4):\n",
    "    ax1.legend(loss)\n",
    "    ax1.plot(colsample_grid, scores_4[loss], c=colors[i], label=loss)\n",
    "\n",
    "ax1.legend()"
   ]
  },
  {
   "cell_type": "code",
   "execution_count": 24,
   "metadata": {},
   "outputs": [],
   "source": [
    "best_loss = 'deviance'\n",
    "best_n_estimators = 100\n",
    "best_learning_rate = 0.1\n",
    "best_colsample = 0.7\n",
    "best_subsample = 0.9"
   ]
  },
  {
   "cell_type": "code",
   "execution_count": 22,
   "metadata": {},
   "outputs": [
    {
     "name": "stdout",
     "output_type": "stream",
     "text": [
      "Лучшее качество на валидации: 0.9164728682170543\n"
     ]
    }
   ],
   "source": [
    "my_clf = MyGradientBoostingClassifier(loss=best_loss, n_estimators=best_n_estimators,\n",
    "                                      learning_rate=best_learning_rate,\n",
    "                                      colsample=best_colsample,\n",
    "                                      subsample=best_subsample)\n",
    "print('Лучшее качество на валидации:', mean_val_score(my_clf, X, y, n_splits=3))"
   ]
  },
  {
   "cell_type": "markdown",
   "metadata": {},
   "source": [
    "## BooBag BagBoo (1 балл)\n",
    "\n"
   ]
  },
  {
   "cell_type": "markdown",
   "metadata": {},
   "source": [
    "Попробуем объединить бустинг и бэгинг. Давайте\n",
    "\n",
    "1) в качестве базовой модели брать не дерево решений, а случайный лес (из sklearn)\n",
    "\n",
    "2) обучать N бустингов на бустрапированной выборке, а затем предикт усреднять"
   ]
  },
  {
   "cell_type": "markdown",
   "metadata": {},
   "source": [
    "Попробуйте обе этих стратегии на данных из прошлого задания. Получилось ли улучшить качество? Почему?"
   ]
  },
  {
   "cell_type": "code",
   "execution_count": 25,
   "metadata": {},
   "outputs": [
    {
     "data": {
      "application/vnd.jupyter.widget-view+json": {
       "model_id": "567d728b116c432397c0dd515bd85c5f",
       "version_major": 2,
       "version_minor": 0
      },
      "text/plain": [
       "  0%|          | 0/3 [00:00<?, ?it/s]"
      ]
     },
     "metadata": {},
     "output_type": "display_data"
    },
    {
     "name": "stdout",
     "output_type": "stream",
     "text": [
      "mse: 0.8497577519379845\n",
      "exponential: 0.8416666666666667\n",
      "deviance: 0.8379360465116279\n"
     ]
    }
   ],
   "source": [
    "boo_bag_scores = {'mse' : 0,\n",
    "          'exponential': 0,\n",
    "          'deviance': 0}\n",
    "\n",
    "for loss in tqdm(boo_bag_scores):\n",
    "    my_clf = MyGradientBoostingClassifier(loss=loss, n_estimators=best_n_estimators,\n",
    "                                      learning_rate=best_learning_rate,\n",
    "                                      colsample=best_colsample,\n",
    "                                      subsample=best_subsample,\n",
    "                                      max_depth=6, n_jobs=-1)\n",
    "    boo_bag_scores[loss] = mean_val_score(my_clf, X, y, n_splits=3, base_model=RandomForestRegressor)\n",
    "\n",
    "for _, loss in enumerate(boo_bag_scores):\n",
    "    print(loss + ':', boo_bag_scores[loss])"
   ]
  },
  {
   "cell_type": "code",
   "execution_count": 28,
   "metadata": {},
   "outputs": [
    {
     "data": {
      "application/vnd.jupyter.widget-view+json": {
       "model_id": "8507902ecc474631a2c765b4d9990742",
       "version_major": 2,
       "version_minor": 0
      },
      "text/plain": [
       "  0%|          | 0/50 [00:00<?, ?it/s]"
      ]
     },
     "metadata": {},
     "output_type": "display_data"
    },
    {
     "data": {
      "application/vnd.jupyter.widget-view+json": {
       "model_id": "711b565767ef4f31b0d07b478d7c6a0f",
       "version_major": 2,
       "version_minor": 0
      },
      "text/plain": [
       "  0%|          | 0/50 [00:00<?, ?it/s]"
      ]
     },
     "metadata": {},
     "output_type": "display_data"
    },
    {
     "data": {
      "application/vnd.jupyter.widget-view+json": {
       "model_id": "d1415b0f5d1547809d532261b55aabe4",
       "version_major": 2,
       "version_minor": 0
      },
      "text/plain": [
       "  0%|          | 0/50 [00:00<?, ?it/s]"
      ]
     },
     "metadata": {},
     "output_type": "display_data"
    },
    {
     "name": "stdout",
     "output_type": "stream",
     "text": [
      "BagBoo score: 0.7056686046511628\n"
     ]
    }
   ],
   "source": [
    "def vote(x):\n",
    "    counts = np.unique(x, return_counts=True)\n",
    "    return counts[0][np.argmax(counts[1])]\n",
    "\n",
    "\n",
    "N = 50\n",
    "scores = []\n",
    "kf = StratifiedKFold(n_splits=3)\n",
    "for train, test in kf.split(X, y):\n",
    "    y_preds = np.zeros((y[test].shape[0], N))\n",
    "    for i in tqdm(range(N)):\n",
    "        my_clf = MyGradientBoostingClassifier(loss=best_loss, n_estimators=best_n_estimators,\n",
    "                                              learning_rate=best_learning_rate,\n",
    "                                              colsample=best_colsample,\n",
    "                                              subsample=best_subsample)\n",
    "        n = X[train].shape[0]\n",
    "        indices = np.random.choice(n, round(n / N), replace=False)\n",
    "        X_sub = X[train]\n",
    "        X_sub = X_sub[indices]\n",
    "        y_sub = y[indices]\n",
    "        my_clf.fit(X_sub, y_sub)\n",
    "        y_pred = my_clf.predict(X[test])\n",
    "        y_pred[y_pred >= 0] = 1\n",
    "        y_pred[y_pred < 0] = -1\n",
    "        y_preds[:, i] = y_pred\n",
    "    y_res = np.apply_along_axis(vote, axis=1, arr=y_preds)\n",
    "    scores.append(accuracy_score(y_pred=y_res, y_true=y[test]))\n",
    "bag_boo_score = np.mean(scores)\n",
    "\n",
    "print('BagBoo score:', bag_boo_score)"
   ]
  },
  {
   "cell_type": "markdown",
   "metadata": {},
   "source": [
    "Прироста качества нет. Возможно, если попробовать настроить параметры - результат будет лучше."
   ]
  },
  {
   "cell_type": "markdown",
   "metadata": {
    "collapsed": true
   },
   "source": [
    "## Умная инициализация (1 балл)\n",
    "\n",
    "Попробуйте брать в качестве инициализации бустинга не константу, а какой-то алгоритм и уже от его предикта стартовать итерации бустинга. Попробуйте разные модели из sklearn: линейные модели, рандом форест, svm..\n",
    "\n",
    "Получилось ли улучшить качество? Почему?\n",
    "\n"
   ]
  },
  {
   "cell_type": "code",
   "execution_count": 35,
   "metadata": {},
   "outputs": [],
   "source": [
    "from sklearn.svm import SVR\n",
    "from sklearn.linear_model import LinearRegression\n",
    "from sklearn.neighbors import KNeighborsRegressor"
   ]
  },
  {
   "cell_type": "code",
   "execution_count": 30,
   "metadata": {},
   "outputs": [
    {
     "data": {
      "application/vnd.jupyter.widget-view+json": {
       "model_id": "4b1172aac6d846eb92e67b264e0d2d14",
       "version_major": 2,
       "version_minor": 0
      },
      "text/plain": [
       "  0%|          | 0/3 [00:00<?, ?it/s]"
      ]
     },
     "metadata": {},
     "output_type": "display_data"
    },
    {
     "name": "stdout",
     "output_type": "stream",
     "text": [
      "mse: 0.7802810077519379\n",
      "exponential: 0.8007751937984495\n",
      "deviance: 0.8046511627906976\n"
     ]
    }
   ],
   "source": [
    "#LinearRegression\n",
    "\n",
    "lin_reg_scores = {'mse' : 0,\n",
    "          'exponential': 0,\n",
    "          'deviance': 0}\n",
    "\n",
    "for loss in tqdm(lin_reg_scores):\n",
    "    my_clf = MyGradientBoostingClassifier(loss=loss, n_estimators=best_n_estimators,\n",
    "                                      learning_rate=best_learning_rate,\n",
    "                                      colsample=best_colsample,\n",
    "                                      subsample=best_subsample)\n",
    "    lin_reg_scores[loss] = mean_val_score(my_clf, X, y, n_splits=3, base_model=LinearRegression)\n",
    "\n",
    "for _, loss in enumerate(lin_reg_scores):\n",
    "    print(loss + ':', lin_reg_scores[loss])"
   ]
  },
  {
   "cell_type": "code",
   "execution_count": 31,
   "metadata": {},
   "outputs": [
    {
     "data": {
      "application/vnd.jupyter.widget-view+json": {
       "model_id": "284c17a79417446eadfd8c96fe84f0dc",
       "version_major": 2,
       "version_minor": 0
      },
      "text/plain": [
       "  0%|          | 0/3 [00:00<?, ?it/s]"
      ]
     },
     "metadata": {},
     "output_type": "display_data"
    },
    {
     "name": "stdout",
     "output_type": "stream",
     "text": [
      "mse: 0.7577519379844961\n",
      "exponential: 0.8423934108527131\n",
      "deviance: 0.8086724806201552\n"
     ]
    }
   ],
   "source": [
    "#KNeighborsRegressor\n",
    "\n",
    "knn_scores = {'mse' : 0,\n",
    "          'exponential': 0,\n",
    "          'deviance': 0}\n",
    "\n",
    "for loss in tqdm(knn_scores):\n",
    "    my_clf = MyGradientBoostingClassifier(loss=loss, n_estimators=best_n_estimators,\n",
    "                                      learning_rate=best_learning_rate,\n",
    "                                      colsample=best_colsample,\n",
    "                                      subsample=best_subsample)\n",
    "    knn_scores[loss] = mean_val_score(my_clf, X, y, n_splits=3, base_model=KNeighborsRegressor)\n",
    "\n",
    "for _, loss in enumerate(knn_scores):\n",
    "    print(loss + ':', knn_scores[loss])"
   ]
  },
  {
   "cell_type": "code",
   "execution_count": null,
   "metadata": {},
   "outputs": [],
   "source": [
    "#SVR\n",
    "\n",
    "svr_scores = {'mse' : 0,\n",
    "          'exponential': 0,\n",
    "          'deviance': 0}\n",
    "\n",
    "for loss in tqdm(svr_scores):\n",
    "    my_clf = MyGradientBoostingClassifier(loss=loss, n_estimators=best_n_estimators,\n",
    "                                      learning_rate=best_learning_rate,\n",
    "                                      colsample=best_colsample,\n",
    "                                      subsample=best_subsample)\n",
    "    svr_scores[loss] = mean_val_score(my_clf, X, y, n_splits=3, base_model=SVR)\n",
    "\n",
    "for _, loss in enumerate(svr_scores):\n",
    "    print(loss + ':', svr_scores[loss])"
   ]
  },
  {
   "cell_type": "markdown",
   "metadata": {},
   "source": [
    "Прироста качества нет. Возможно, это из-за того, что базовые алгоритмы тоже нужно настраивать."
   ]
  },
  {
   "cell_type": "markdown",
   "metadata": {},
   "source": [
    "## Фидбек (бесценно)"
   ]
  },
  {
   "cell_type": "markdown",
   "metadata": {},
   "source": [
    "* Какие аспекты обучения  ансамблей Вам показались непонятными? Какое место стоит дополнительно объяснить?"
   ]
  },
  {
   "cell_type": "markdown",
   "metadata": {},
   "source": [
    "### Ваш ответ здесь"
   ]
  },
  {
   "cell_type": "markdown",
   "metadata": {},
   "source": [
    "* Здесь Вы можете оставить отзыв о этой домашней работе или о всем курсе."
   ]
  },
  {
   "cell_type": "markdown",
   "metadata": {},
   "source": [
    "### ВАШ ОТЗЫВ ЗДЕСЬ\n",
    "\n"
   ]
  },
  {
   "cell_type": "code",
   "execution_count": null,
   "metadata": {},
   "outputs": [],
   "source": []
  },
  {
   "cell_type": "code",
   "execution_count": null,
   "metadata": {},
   "outputs": [],
   "source": []
  }
 ],
 "metadata": {
  "anaconda-cloud": {},
  "kernelspec": {
   "display_name": "Python 3",
   "language": "python",
   "name": "python3"
  },
  "language_info": {
   "codemirror_mode": {
    "name": "ipython",
    "version": 3
   },
   "file_extension": ".py",
   "mimetype": "text/x-python",
   "name": "python",
   "nbconvert_exporter": "python",
   "pygments_lexer": "ipython3",
   "version": "3.7.10"
  }
 },
 "nbformat": 4,
 "nbformat_minor": 2
}
